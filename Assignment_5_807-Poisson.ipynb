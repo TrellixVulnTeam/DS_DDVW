{
 "cells": [
  {
   "cell_type": "markdown",
   "metadata": {},
   "source": [
    "# Assignment 5: Using time series data to forecast emergency department arrivals"
   ]
  },
  {
   "cell_type": "code",
   "execution_count": 1,
   "metadata": {},
   "outputs": [],
   "source": [
    "%matplotlib inline\n",
    "import matplotlib.pylab\n",
    "from matplotlib import pyplot\n",
    "import matplotlib.pyplot as plt\n",
    "plt.rc(\"figure\", figsize=(12,10))\n",
    "import pandas as pd\n",
    "import numpy as np\n",
    "import datetime\n",
    "import math"
   ]
  },
  {
   "cell_type": "markdown",
   "metadata": {},
   "source": [
    "## Importing and wrangling the time series data"
   ]
  },
  {
   "cell_type": "code",
   "execution_count": 3,
   "metadata": {
    "scrolled": true
   },
   "outputs": [
    {
     "data": {
      "text/html": [
       "<div>\n",
       "<style scoped>\n",
       "    .dataframe tbody tr th:only-of-type {\n",
       "        vertical-align: middle;\n",
       "    }\n",
       "\n",
       "    .dataframe tbody tr th {\n",
       "        vertical-align: top;\n",
       "    }\n",
       "\n",
       "    .dataframe thead th {\n",
       "        text-align: right;\n",
       "    }\n",
       "</style>\n",
       "<table border=\"1\" class=\"dataframe\">\n",
       "  <thead>\n",
       "    <tr style=\"text-align: right;\">\n",
       "      <th></th>\n",
       "      <th>0</th>\n",
       "    </tr>\n",
       "  </thead>\n",
       "  <tbody>\n",
       "    <tr>\n",
       "      <th>2014-01-01 00:00:00</th>\n",
       "      <td>2.0</td>\n",
       "    </tr>\n",
       "    <tr>\n",
       "      <th>2014-01-01 01:00:00</th>\n",
       "      <td>2.0</td>\n",
       "    </tr>\n",
       "    <tr>\n",
       "      <th>2014-01-01 02:00:00</th>\n",
       "      <td>3.0</td>\n",
       "    </tr>\n",
       "    <tr>\n",
       "      <th>2014-01-01 03:00:00</th>\n",
       "      <td>1.0</td>\n",
       "    </tr>\n",
       "    <tr>\n",
       "      <th>2014-01-01 04:00:00</th>\n",
       "      <td>1.0</td>\n",
       "    </tr>\n",
       "  </tbody>\n",
       "</table>\n",
       "</div>"
      ],
      "text/plain": [
       "                       0\n",
       "2014-01-01 00:00:00  2.0\n",
       "2014-01-01 01:00:00  2.0\n",
       "2014-01-01 02:00:00  3.0\n",
       "2014-01-01 03:00:00  1.0\n",
       "2014-01-01 04:00:00  1.0"
      ]
     },
     "execution_count": 3,
     "metadata": {},
     "output_type": "execute_result"
    }
   ],
   "source": [
    "ts = pd.read_csv('patient_ts.csv', index_col=0)\n",
    "ts.head()"
   ]
  },
  {
   "cell_type": "markdown",
   "metadata": {},
   "source": [
    "#### Check the index type"
   ]
  },
  {
   "cell_type": "code",
   "execution_count": 4,
   "metadata": {},
   "outputs": [
    {
     "data": {
      "text/plain": [
       "pandas.core.indexes.base.Index"
      ]
     },
     "execution_count": 4,
     "metadata": {},
     "output_type": "execute_result"
    }
   ],
   "source": [
    "type(ts.index)"
   ]
  },
  {
   "cell_type": "markdown",
   "metadata": {},
   "source": [
    "#### Change the index to a datetime index"
   ]
  },
  {
   "cell_type": "code",
   "execution_count": 5,
   "metadata": {},
   "outputs": [
    {
     "data": {
      "text/html": [
       "<div>\n",
       "<style scoped>\n",
       "    .dataframe tbody tr th:only-of-type {\n",
       "        vertical-align: middle;\n",
       "    }\n",
       "\n",
       "    .dataframe tbody tr th {\n",
       "        vertical-align: top;\n",
       "    }\n",
       "\n",
       "    .dataframe thead th {\n",
       "        text-align: right;\n",
       "    }\n",
       "</style>\n",
       "<table border=\"1\" class=\"dataframe\">\n",
       "  <thead>\n",
       "    <tr style=\"text-align: right;\">\n",
       "      <th></th>\n",
       "      <th>0</th>\n",
       "    </tr>\n",
       "  </thead>\n",
       "  <tbody>\n",
       "    <tr>\n",
       "      <th>2014-01-01 00:00:00</th>\n",
       "      <td>2.0</td>\n",
       "    </tr>\n",
       "    <tr>\n",
       "      <th>2014-01-01 01:00:00</th>\n",
       "      <td>2.0</td>\n",
       "    </tr>\n",
       "    <tr>\n",
       "      <th>2014-01-01 02:00:00</th>\n",
       "      <td>3.0</td>\n",
       "    </tr>\n",
       "    <tr>\n",
       "      <th>2014-01-01 03:00:00</th>\n",
       "      <td>1.0</td>\n",
       "    </tr>\n",
       "    <tr>\n",
       "      <th>2014-01-01 04:00:00</th>\n",
       "      <td>1.0</td>\n",
       "    </tr>\n",
       "  </tbody>\n",
       "</table>\n",
       "</div>"
      ],
      "text/plain": [
       "                       0\n",
       "2014-01-01 00:00:00  2.0\n",
       "2014-01-01 01:00:00  2.0\n",
       "2014-01-01 02:00:00  3.0\n",
       "2014-01-01 03:00:00  1.0\n",
       "2014-01-01 04:00:00  1.0"
      ]
     },
     "execution_count": 5,
     "metadata": {},
     "output_type": "execute_result"
    }
   ],
   "source": [
    "ts.index = pd.to_datetime(ts.index, format= '%Y-%m-%d %H:%M:%S')\n",
    "ts.head()"
   ]
  },
  {
   "cell_type": "code",
   "execution_count": 6,
   "metadata": {},
   "outputs": [
    {
     "data": {
      "text/plain": [
       "pandas.core.indexes.datetimes.DatetimeIndex"
      ]
     },
     "execution_count": 6,
     "metadata": {},
     "output_type": "execute_result"
    }
   ],
   "source": [
    "type(ts.index)"
   ]
  },
  {
   "cell_type": "markdown",
   "metadata": {},
   "source": [
    "#### Set the time series frequency to 'Hourly'"
   ]
  },
  {
   "cell_type": "code",
   "execution_count": 7,
   "metadata": {},
   "outputs": [],
   "source": [
    "ts = ts.asfreq('H')"
   ]
  },
  {
   "cell_type": "markdown",
   "metadata": {},
   "source": [
    "#### Change the column name to 'patients'"
   ]
  },
  {
   "cell_type": "code",
   "execution_count": 8,
   "metadata": {},
   "outputs": [
    {
     "data": {
      "text/html": [
       "<div>\n",
       "<style scoped>\n",
       "    .dataframe tbody tr th:only-of-type {\n",
       "        vertical-align: middle;\n",
       "    }\n",
       "\n",
       "    .dataframe tbody tr th {\n",
       "        vertical-align: top;\n",
       "    }\n",
       "\n",
       "    .dataframe thead th {\n",
       "        text-align: right;\n",
       "    }\n",
       "</style>\n",
       "<table border=\"1\" class=\"dataframe\">\n",
       "  <thead>\n",
       "    <tr style=\"text-align: right;\">\n",
       "      <th></th>\n",
       "      <th>patients</th>\n",
       "    </tr>\n",
       "  </thead>\n",
       "  <tbody>\n",
       "    <tr>\n",
       "      <th>2014-01-01 00:00:00</th>\n",
       "      <td>2.0</td>\n",
       "    </tr>\n",
       "    <tr>\n",
       "      <th>2014-01-01 01:00:00</th>\n",
       "      <td>2.0</td>\n",
       "    </tr>\n",
       "    <tr>\n",
       "      <th>2014-01-01 02:00:00</th>\n",
       "      <td>3.0</td>\n",
       "    </tr>\n",
       "    <tr>\n",
       "      <th>2014-01-01 03:00:00</th>\n",
       "      <td>1.0</td>\n",
       "    </tr>\n",
       "    <tr>\n",
       "      <th>2014-01-01 04:00:00</th>\n",
       "      <td>1.0</td>\n",
       "    </tr>\n",
       "  </tbody>\n",
       "</table>\n",
       "</div>"
      ],
      "text/plain": [
       "                     patients\n",
       "2014-01-01 00:00:00       2.0\n",
       "2014-01-01 01:00:00       2.0\n",
       "2014-01-01 02:00:00       3.0\n",
       "2014-01-01 03:00:00       1.0\n",
       "2014-01-01 04:00:00       1.0"
      ]
     },
     "execution_count": 8,
     "metadata": {},
     "output_type": "execute_result"
    }
   ],
   "source": [
    "ts.columns = ['patients']\n",
    "ts.head()"
   ]
  },
  {
   "cell_type": "markdown",
   "metadata": {},
   "source": [
    "#### Convert to a pandas series"
   ]
  },
  {
   "cell_type": "code",
   "execution_count": 9,
   "metadata": {},
   "outputs": [
    {
     "data": {
      "text/plain": [
       "pandas.core.series.Series"
      ]
     },
     "execution_count": 9,
     "metadata": {},
     "output_type": "execute_result"
    }
   ],
   "source": [
    "ts = ts['patients']\n",
    "type(ts)"
   ]
  },
  {
   "cell_type": "code",
   "execution_count": 10,
   "metadata": {},
   "outputs": [
    {
     "data": {
      "text/plain": [
       "2014-01-01 00:00:00    2.0\n",
       "2014-01-01 01:00:00    2.0\n",
       "2014-01-01 02:00:00    3.0\n",
       "2014-01-01 03:00:00    1.0\n",
       "2014-01-01 04:00:00    1.0\n",
       "Freq: H, Name: patients, dtype: float64"
      ]
     },
     "execution_count": 10,
     "metadata": {},
     "output_type": "execute_result"
    }
   ],
   "source": [
    "ts.head()"
   ]
  },
  {
   "cell_type": "markdown",
   "metadata": {},
   "source": [
    "## Decomposing the time series"
   ]
  },
  {
   "cell_type": "code",
   "execution_count": 11,
   "metadata": {},
   "outputs": [
    {
     "data": {
      "image/png": "[encoded data removed]",
      "text/plain": [
       "<Figure size 864x720 with 4 Axes>"
      ]
     },
     "metadata": {
      "needs_background": "light"
     },
     "output_type": "display_data"
    }
   ],
   "source": [
    "from statsmodels.tsa.seasonal import seasonal_decompose\n",
    "\n",
    "result = seasonal_decompose(ts, model='additive')\n",
    "result.plot()\n",
    "pyplot.show()"
   ]
  },
  {
   "cell_type": "markdown",
   "metadata": {},
   "source": [
    "#### Formatting the data frame for forecasting"
   ]
  },
  {
   "cell_type": "code",
   "execution_count": 12,
   "metadata": {},
   "outputs": [
    {
     "data": {
      "text/html": [
       "<div>\n",
       "<style scoped>\n",
       "    .dataframe tbody tr th:only-of-type {\n",
       "        vertical-align: middle;\n",
       "    }\n",
       "\n",
       "    .dataframe tbody tr th {\n",
       "        vertical-align: top;\n",
       "    }\n",
       "\n",
       "    .dataframe thead th {\n",
       "        text-align: right;\n",
       "    }\n",
       "</style>\n",
       "<table border=\"1\" class=\"dataframe\">\n",
       "  <thead>\n",
       "    <tr style=\"text-align: right;\">\n",
       "      <th></th>\n",
       "      <th>timestamp</th>\n",
       "      <th>patients</th>\n",
       "    </tr>\n",
       "  </thead>\n",
       "  <tbody>\n",
       "    <tr>\n",
       "      <th>0</th>\n",
       "      <td>2014-01-01 00:00:00</td>\n",
       "      <td>2.0</td>\n",
       "    </tr>\n",
       "    <tr>\n",
       "      <th>1</th>\n",
       "      <td>2014-01-01 01:00:00</td>\n",
       "      <td>2.0</td>\n",
       "    </tr>\n",
       "    <tr>\n",
       "      <th>2</th>\n",
       "      <td>2014-01-01 02:00:00</td>\n",
       "      <td>3.0</td>\n",
       "    </tr>\n",
       "    <tr>\n",
       "      <th>3</th>\n",
       "      <td>2014-01-01 03:00:00</td>\n",
       "      <td>1.0</td>\n",
       "    </tr>\n",
       "    <tr>\n",
       "      <th>4</th>\n",
       "      <td>2014-01-01 04:00:00</td>\n",
       "      <td>1.0</td>\n",
       "    </tr>\n",
       "  </tbody>\n",
       "</table>\n",
       "</div>"
      ],
      "text/plain": [
       "            timestamp  patients\n",
       "0 2014-01-01 00:00:00       2.0\n",
       "1 2014-01-01 01:00:00       2.0\n",
       "2 2014-01-01 02:00:00       3.0\n",
       "3 2014-01-01 03:00:00       1.0\n",
       "4 2014-01-01 04:00:00       1.0"
      ]
     },
     "execution_count": 12,
     "metadata": {},
     "output_type": "execute_result"
    }
   ],
   "source": [
    "patients_df = ts.reset_index()\n",
    "patients_df.columns = [\"timestamp\", \"patients\"]\n",
    "patients_df.head()"
   ]
  },
  {
   "cell_type": "markdown",
   "metadata": {},
   "source": [
    "The components of our time series are in a Pandas Series, so to append them to the dataframe we have to use the map() function, and the column 'timestamp' as the key."
   ]
  },
  {
   "cell_type": "code",
   "execution_count": 13,
   "metadata": {},
   "outputs": [
    {
     "data": {
      "text/html": [
       "<div>\n",
       "<style scoped>\n",
       "    .dataframe tbody tr th:only-of-type {\n",
       "        vertical-align: middle;\n",
       "    }\n",
       "\n",
       "    .dataframe tbody tr th {\n",
       "        vertical-align: top;\n",
       "    }\n",
       "\n",
       "    .dataframe thead th {\n",
       "        text-align: right;\n",
       "    }\n",
       "</style>\n",
       "<table border=\"1\" class=\"dataframe\">\n",
       "  <thead>\n",
       "    <tr style=\"text-align: right;\">\n",
       "      <th></th>\n",
       "      <th>timestamp</th>\n",
       "      <th>patients</th>\n",
       "      <th>trend</th>\n",
       "    </tr>\n",
       "  </thead>\n",
       "  <tbody>\n",
       "    <tr>\n",
       "      <th>0</th>\n",
       "      <td>2014-01-01 00:00:00</td>\n",
       "      <td>2.0</td>\n",
       "      <td>NaN</td>\n",
       "    </tr>\n",
       "    <tr>\n",
       "      <th>1</th>\n",
       "      <td>2014-01-01 01:00:00</td>\n",
       "      <td>2.0</td>\n",
       "      <td>NaN</td>\n",
       "    </tr>\n",
       "    <tr>\n",
       "      <th>2</th>\n",
       "      <td>2014-01-01 02:00:00</td>\n",
       "      <td>3.0</td>\n",
       "      <td>NaN</td>\n",
       "    </tr>\n",
       "    <tr>\n",
       "      <th>3</th>\n",
       "      <td>2014-01-01 03:00:00</td>\n",
       "      <td>1.0</td>\n",
       "      <td>NaN</td>\n",
       "    </tr>\n",
       "    <tr>\n",
       "      <th>4</th>\n",
       "      <td>2014-01-01 04:00:00</td>\n",
       "      <td>1.0</td>\n",
       "      <td>NaN</td>\n",
       "    </tr>\n",
       "    <tr>\n",
       "      <th>5</th>\n",
       "      <td>2014-01-01 05:00:00</td>\n",
       "      <td>2.0</td>\n",
       "      <td>NaN</td>\n",
       "    </tr>\n",
       "    <tr>\n",
       "      <th>6</th>\n",
       "      <td>2014-01-01 06:00:00</td>\n",
       "      <td>2.0</td>\n",
       "      <td>NaN</td>\n",
       "    </tr>\n",
       "    <tr>\n",
       "      <th>7</th>\n",
       "      <td>2014-01-01 07:00:00</td>\n",
       "      <td>5.0</td>\n",
       "      <td>NaN</td>\n",
       "    </tr>\n",
       "    <tr>\n",
       "      <th>8</th>\n",
       "      <td>2014-01-01 08:00:00</td>\n",
       "      <td>5.0</td>\n",
       "      <td>NaN</td>\n",
       "    </tr>\n",
       "    <tr>\n",
       "      <th>9</th>\n",
       "      <td>2014-01-01 09:00:00</td>\n",
       "      <td>6.0</td>\n",
       "      <td>NaN</td>\n",
       "    </tr>\n",
       "    <tr>\n",
       "      <th>10</th>\n",
       "      <td>2014-01-01 10:00:00</td>\n",
       "      <td>5.0</td>\n",
       "      <td>NaN</td>\n",
       "    </tr>\n",
       "    <tr>\n",
       "      <th>11</th>\n",
       "      <td>2014-01-01 11:00:00</td>\n",
       "      <td>4.0</td>\n",
       "      <td>NaN</td>\n",
       "    </tr>\n",
       "    <tr>\n",
       "      <th>12</th>\n",
       "      <td>2014-01-01 12:00:00</td>\n",
       "      <td>9.0</td>\n",
       "      <td>3.729167</td>\n",
       "    </tr>\n",
       "    <tr>\n",
       "      <th>13</th>\n",
       "      <td>2014-01-01 13:00:00</td>\n",
       "      <td>3.0</td>\n",
       "      <td>3.708333</td>\n",
       "    </tr>\n",
       "    <tr>\n",
       "      <th>14</th>\n",
       "      <td>2014-01-01 14:00:00</td>\n",
       "      <td>8.0</td>\n",
       "      <td>3.687500</td>\n",
       "    </tr>\n",
       "    <tr>\n",
       "      <th>15</th>\n",
       "      <td>2014-01-01 15:00:00</td>\n",
       "      <td>6.0</td>\n",
       "      <td>3.666667</td>\n",
       "    </tr>\n",
       "    <tr>\n",
       "      <th>16</th>\n",
       "      <td>2014-01-01 16:00:00</td>\n",
       "      <td>6.0</td>\n",
       "      <td>3.666667</td>\n",
       "    </tr>\n",
       "    <tr>\n",
       "      <th>17</th>\n",
       "      <td>2014-01-01 17:00:00</td>\n",
       "      <td>4.0</td>\n",
       "      <td>3.625000</td>\n",
       "    </tr>\n",
       "    <tr>\n",
       "      <th>18</th>\n",
       "      <td>2014-01-01 18:00:00</td>\n",
       "      <td>3.0</td>\n",
       "      <td>3.604167</td>\n",
       "    </tr>\n",
       "    <tr>\n",
       "      <th>19</th>\n",
       "      <td>2014-01-01 19:00:00</td>\n",
       "      <td>1.0</td>\n",
       "      <td>3.625000</td>\n",
       "    </tr>\n",
       "  </tbody>\n",
       "</table>\n",
       "</div>"
      ],
      "text/plain": [
       "             timestamp  patients     trend\n",
       "0  2014-01-01 00:00:00       2.0       NaN\n",
       "1  2014-01-01 01:00:00       2.0       NaN\n",
       "2  2014-01-01 02:00:00       3.0       NaN\n",
       "3  2014-01-01 03:00:00       1.0       NaN\n",
       "4  2014-01-01 04:00:00       1.0       NaN\n",
       "5  2014-01-01 05:00:00       2.0       NaN\n",
       "6  2014-01-01 06:00:00       2.0       NaN\n",
       "7  2014-01-01 07:00:00       5.0       NaN\n",
       "8  2014-01-01 08:00:00       5.0       NaN\n",
       "9  2014-01-01 09:00:00       6.0       NaN\n",
       "10 2014-01-01 10:00:00       5.0       NaN\n",
       "11 2014-01-01 11:00:00       4.0       NaN\n",
       "12 2014-01-01 12:00:00       9.0  3.729167\n",
       "13 2014-01-01 13:00:00       3.0  3.708333\n",
       "14 2014-01-01 14:00:00       8.0  3.687500\n",
       "15 2014-01-01 15:00:00       6.0  3.666667\n",
       "16 2014-01-01 16:00:00       6.0  3.666667\n",
       "17 2014-01-01 17:00:00       4.0  3.625000\n",
       "18 2014-01-01 18:00:00       3.0  3.604167\n",
       "19 2014-01-01 19:00:00       1.0  3.625000"
      ]
     },
     "execution_count": 13,
     "metadata": {},
     "output_type": "execute_result"
    }
   ],
   "source": [
    "patients_df[\"trend\"] = patients_df['timestamp'].map(result.trend)\n",
    "patients_df.head(20)"
   ]
  },
  {
   "cell_type": "markdown",
   "metadata": {},
   "source": [
    "Are the NaNs an error? Nope. remember that when we calculate a trend using a two-sided moving average, we lose some values at the beginning and at the end."
   ]
  },
  {
   "cell_type": "markdown",
   "metadata": {},
   "source": [
    "## Adding a column for the seasonal component"
   ]
  },
  {
   "cell_type": "markdown",
   "metadata": {},
   "source": [
    "What is the proper seasonality time scale for this dataset? In our EDA notebook, we saw that the strongest seasonal signal is observed at the **hourly** time scale. Therefore, we should look at seasonality at this time scale."
   ]
  },
  {
   "cell_type": "code",
   "execution_count": 14,
   "metadata": {},
   "outputs": [],
   "source": [
    "patients_df['hour'] = pd.DatetimeIndex(patients_df['timestamp']).hour"
   ]
  },
  {
   "cell_type": "code",
   "execution_count": 15,
   "metadata": {},
   "outputs": [
    {
     "data": {
      "text/html": [
       "<div>\n",
       "<style scoped>\n",
       "    .dataframe tbody tr th:only-of-type {\n",
       "        vertical-align: middle;\n",
       "    }\n",
       "\n",
       "    .dataframe tbody tr th {\n",
       "        vertical-align: top;\n",
       "    }\n",
       "\n",
       "    .dataframe thead th {\n",
       "        text-align: right;\n",
       "    }\n",
       "</style>\n",
       "<table border=\"1\" class=\"dataframe\">\n",
       "  <thead>\n",
       "    <tr style=\"text-align: right;\">\n",
       "      <th></th>\n",
       "      <th>timestamp</th>\n",
       "      <th>patients</th>\n",
       "      <th>trend</th>\n",
       "      <th>hour</th>\n",
       "    </tr>\n",
       "  </thead>\n",
       "  <tbody>\n",
       "    <tr>\n",
       "      <th>0</th>\n",
       "      <td>2014-01-01 00:00:00</td>\n",
       "      <td>2.0</td>\n",
       "      <td>NaN</td>\n",
       "      <td>0</td>\n",
       "    </tr>\n",
       "    <tr>\n",
       "      <th>1</th>\n",
       "      <td>2014-01-01 01:00:00</td>\n",
       "      <td>2.0</td>\n",
       "      <td>NaN</td>\n",
       "      <td>1</td>\n",
       "    </tr>\n",
       "    <tr>\n",
       "      <th>2</th>\n",
       "      <td>2014-01-01 02:00:00</td>\n",
       "      <td>3.0</td>\n",
       "      <td>NaN</td>\n",
       "      <td>2</td>\n",
       "    </tr>\n",
       "    <tr>\n",
       "      <th>3</th>\n",
       "      <td>2014-01-01 03:00:00</td>\n",
       "      <td>1.0</td>\n",
       "      <td>NaN</td>\n",
       "      <td>3</td>\n",
       "    </tr>\n",
       "    <tr>\n",
       "      <th>4</th>\n",
       "      <td>2014-01-01 04:00:00</td>\n",
       "      <td>1.0</td>\n",
       "      <td>NaN</td>\n",
       "      <td>4</td>\n",
       "    </tr>\n",
       "  </tbody>\n",
       "</table>\n",
       "</div>"
      ],
      "text/plain": [
       "            timestamp  patients  trend  hour\n",
       "0 2014-01-01 00:00:00       2.0    NaN     0\n",
       "1 2014-01-01 01:00:00       2.0    NaN     1\n",
       "2 2014-01-01 02:00:00       3.0    NaN     2\n",
       "3 2014-01-01 03:00:00       1.0    NaN     3\n",
       "4 2014-01-01 04:00:00       1.0    NaN     4"
      ]
     },
     "execution_count": 15,
     "metadata": {},
     "output_type": "execute_result"
    }
   ],
   "source": [
    "patients_df.head()"
   ]
  },
  {
   "cell_type": "markdown",
   "metadata": {},
   "source": [
    "Let's check the data types"
   ]
  },
  {
   "cell_type": "code",
   "execution_count": 16,
   "metadata": {},
   "outputs": [
    {
     "data": {
      "text/plain": [
       "timestamp    datetime64[ns]\n",
       "patients            float64\n",
       "trend               float64\n",
       "hour                  int64\n",
       "dtype: object"
      ]
     },
     "execution_count": 16,
     "metadata": {},
     "output_type": "execute_result"
    }
   ],
   "source": [
    "patients_df.dtypes"
   ]
  },
  {
   "cell_type": "markdown",
   "metadata": {},
   "source": [
    "The 'hour' column is an object, but we need it to be treated as a category."
   ]
  },
  {
   "cell_type": "code",
   "execution_count": 17,
   "metadata": {},
   "outputs": [],
   "source": [
    "patients_df['hour'] = patients_df.hour.astype(\"category\")"
   ]
  },
  {
   "cell_type": "code",
   "execution_count": 18,
   "metadata": {},
   "outputs": [
    {
     "data": {
      "text/plain": [
       "timestamp    datetime64[ns]\n",
       "patients            float64\n",
       "trend               float64\n",
       "hour               category\n",
       "dtype: object"
      ]
     },
     "execution_count": 18,
     "metadata": {},
     "output_type": "execute_result"
    }
   ],
   "source": [
    "patients_df.dtypes"
   ]
  },
  {
   "cell_type": "markdown",
   "metadata": {},
   "source": [
    "We can see that now it's being treated as a category."
   ]
  },
  {
   "cell_type": "markdown",
   "metadata": {},
   "source": [
    "### Split into train and test sets"
   ]
  },
  {
   "cell_type": "markdown",
   "metadata": {},
   "source": [
    "The training set is going to start at row 12 because we have NaNs for the trend before that. The training set is going to be 70% of the time series."
   ]
  },
  {
   "cell_type": "code",
   "execution_count": 19,
   "metadata": {},
   "outputs": [
    {
     "data": {
      "text/html": [
       "<div>\n",
       "<style scoped>\n",
       "    .dataframe tbody tr th:only-of-type {\n",
       "        vertical-align: middle;\n",
       "    }\n",
       "\n",
       "    .dataframe tbody tr th {\n",
       "        vertical-align: top;\n",
       "    }\n",
       "\n",
       "    .dataframe thead th {\n",
       "        text-align: right;\n",
       "    }\n",
       "</style>\n",
       "<table border=\"1\" class=\"dataframe\">\n",
       "  <thead>\n",
       "    <tr style=\"text-align: right;\">\n",
       "      <th></th>\n",
       "      <th>timestamp</th>\n",
       "      <th>patients</th>\n",
       "      <th>trend</th>\n",
       "      <th>hour</th>\n",
       "    </tr>\n",
       "  </thead>\n",
       "  <tbody>\n",
       "    <tr>\n",
       "      <th>12</th>\n",
       "      <td>2014-01-01 12:00:00</td>\n",
       "      <td>9.0</td>\n",
       "      <td>3.729167</td>\n",
       "      <td>12</td>\n",
       "    </tr>\n",
       "    <tr>\n",
       "      <th>13</th>\n",
       "      <td>2014-01-01 13:00:00</td>\n",
       "      <td>3.0</td>\n",
       "      <td>3.708333</td>\n",
       "      <td>13</td>\n",
       "    </tr>\n",
       "    <tr>\n",
       "      <th>14</th>\n",
       "      <td>2014-01-01 14:00:00</td>\n",
       "      <td>8.0</td>\n",
       "      <td>3.687500</td>\n",
       "      <td>14</td>\n",
       "    </tr>\n",
       "    <tr>\n",
       "      <th>15</th>\n",
       "      <td>2014-01-01 15:00:00</td>\n",
       "      <td>6.0</td>\n",
       "      <td>3.666667</td>\n",
       "      <td>15</td>\n",
       "    </tr>\n",
       "    <tr>\n",
       "      <th>16</th>\n",
       "      <td>2014-01-01 16:00:00</td>\n",
       "      <td>6.0</td>\n",
       "      <td>3.666667</td>\n",
       "      <td>16</td>\n",
       "    </tr>\n",
       "  </tbody>\n",
       "</table>\n",
       "</div>"
      ],
      "text/plain": [
       "             timestamp  patients     trend hour\n",
       "12 2014-01-01 12:00:00       9.0  3.729167   12\n",
       "13 2014-01-01 13:00:00       3.0  3.708333   13\n",
       "14 2014-01-01 14:00:00       8.0  3.687500   14\n",
       "15 2014-01-01 15:00:00       6.0  3.666667   15\n",
       "16 2014-01-01 16:00:00       6.0  3.666667   16"
      ]
     },
     "execution_count": 19,
     "metadata": {},
     "output_type": "execute_result"
    }
   ],
   "source": [
    "patients_train = patients_df.iloc[12:24540,:]\n",
    "patients_train.head()"
   ]
  },
  {
   "cell_type": "code",
   "execution_count": 20,
   "metadata": {},
   "outputs": [
    {
     "data": {
      "text/html": [
       "<div>\n",
       "<style scoped>\n",
       "    .dataframe tbody tr th:only-of-type {\n",
       "        vertical-align: middle;\n",
       "    }\n",
       "\n",
       "    .dataframe tbody tr th {\n",
       "        vertical-align: top;\n",
       "    }\n",
       "\n",
       "    .dataframe thead th {\n",
       "        text-align: right;\n",
       "    }\n",
       "</style>\n",
       "<table border=\"1\" class=\"dataframe\">\n",
       "  <thead>\n",
       "    <tr style=\"text-align: right;\">\n",
       "      <th></th>\n",
       "      <th>timestamp</th>\n",
       "      <th>patients</th>\n",
       "      <th>trend</th>\n",
       "      <th>hour</th>\n",
       "    </tr>\n",
       "  </thead>\n",
       "  <tbody>\n",
       "    <tr>\n",
       "      <th>35047</th>\n",
       "      <td>2017-12-31 07:00:00</td>\n",
       "      <td>3.0</td>\n",
       "      <td>4.75</td>\n",
       "      <td>7</td>\n",
       "    </tr>\n",
       "    <tr>\n",
       "      <th>35048</th>\n",
       "      <td>2017-12-31 08:00:00</td>\n",
       "      <td>6.0</td>\n",
       "      <td>4.75</td>\n",
       "      <td>8</td>\n",
       "    </tr>\n",
       "    <tr>\n",
       "      <th>35049</th>\n",
       "      <td>2017-12-31 09:00:00</td>\n",
       "      <td>8.0</td>\n",
       "      <td>4.75</td>\n",
       "      <td>9</td>\n",
       "    </tr>\n",
       "    <tr>\n",
       "      <th>35050</th>\n",
       "      <td>2017-12-31 10:00:00</td>\n",
       "      <td>6.0</td>\n",
       "      <td>4.75</td>\n",
       "      <td>10</td>\n",
       "    </tr>\n",
       "    <tr>\n",
       "      <th>35051</th>\n",
       "      <td>2017-12-31 11:00:00</td>\n",
       "      <td>9.0</td>\n",
       "      <td>4.75</td>\n",
       "      <td>11</td>\n",
       "    </tr>\n",
       "  </tbody>\n",
       "</table>\n",
       "</div>"
      ],
      "text/plain": [
       "                timestamp  patients  trend hour\n",
       "35047 2017-12-31 07:00:00       3.0   4.75    7\n",
       "35048 2017-12-31 08:00:00       6.0   4.75    8\n",
       "35049 2017-12-31 09:00:00       8.0   4.75    9\n",
       "35050 2017-12-31 10:00:00       6.0   4.75   10\n",
       "35051 2017-12-31 11:00:00       9.0   4.75   11"
      ]
     },
     "execution_count": 20,
     "metadata": {},
     "output_type": "execute_result"
    }
   ],
   "source": [
    "patients_test = patients_df.iloc[24540:35052,:]\n",
    "patients_test.tail()"
   ]
  },
  {
   "cell_type": "markdown",
   "metadata": {},
   "source": [
    "### Forecasting with the time series trend only"
   ]
  },
  {
   "cell_type": "markdown",
   "metadata": {},
   "source": [
    "We will be using OLS"
   ]
  },
  {
   "cell_type": "code",
   "execution_count": 74,
   "metadata": {},
   "outputs": [],
   "source": [
    "from statsmodels.formula.api import ols\n",
    "\n",
    "from statsmodels.genmod.generalized_linear_model import GLM\n",
    "from statsmodels.genmod.families.family import Poisson\n",
    "from statsmodels.genmod.families import links"
   ]
  },
  {
   "cell_type": "code",
   "execution_count": 75,
   "metadata": {},
   "outputs": [
    {
     "data": {
      "text/html": [
       "<table class=\"simpletable\">\n",
       "<caption>Generalized Linear Model Regression Results</caption>\n",
       "<tr>\n",
       "  <th>Dep. Variable:</th>       <td>patients</td>     <th>  No. Observations:  </th>  <td> 24528</td> \n",
       "</tr>\n",
       "<tr>\n",
       "  <th>Model:</th>                  <td>GLM</td>       <th>  Df Residuals:      </th>  <td> 24527</td> \n",
       "</tr>\n",
       "<tr>\n",
       "  <th>Model Family:</th>         <td>Poisson</td>     <th>  Df Model:          </th>  <td>     0</td> \n",
       "</tr>\n",
       "<tr>\n",
       "  <th>Link Function:</th>          <td>log</td>       <th>  Scale:             </th> <td>  1.0000</td>\n",
       "</tr>\n",
       "<tr>\n",
       "  <th>Method:</th>               <td>newton</td>      <th>  Log-Likelihood:    </th> <td> -57590.</td>\n",
       "</tr>\n",
       "<tr>\n",
       "  <th>Date:</th>            <td>Tue, 06 Jul 2021</td> <th>  Deviance:          </th> <td>  43155.</td>\n",
       "</tr>\n",
       "<tr>\n",
       "  <th>Time:</th>                <td>20:27:05</td>     <th>  Pearson chi2:      </th> <td>3.96e+04</td>\n",
       "</tr>\n",
       "<tr>\n",
       "  <th>No. Iterations:</th>          <td>2</td>        <th>                     </th>     <td> </td>   \n",
       "</tr>\n",
       "<tr>\n",
       "  <th>Covariance Type:</th>     <td>nonrobust</td>    <th>                     </th>     <td> </td>   \n",
       "</tr>\n",
       "</table>\n",
       "<table class=\"simpletable\">\n",
       "<tr>\n",
       "    <td></td>       <th>coef</th>     <th>std err</th>      <th>z</th>      <th>P>|z|</th>  <th>[0.025</th>    <th>0.975]</th>  \n",
       "</tr>\n",
       "<tr>\n",
       "  <th>trend</th> <td>    0.3413</td> <td>    0.001</td> <td>  433.723</td> <td> 0.000</td> <td>    0.340</td> <td>    0.343</td>\n",
       "</tr>\n",
       "</table>"
      ],
      "text/plain": [
       "<class 'statsmodels.iolib.summary.Summary'>\n",
       "\"\"\"\n",
       "                 Generalized Linear Model Regression Results                  \n",
       "==============================================================================\n",
       "Dep. Variable:               patients   No. Observations:                24528\n",
       "Model:                            GLM   Df Residuals:                    24527\n",
       "Model Family:                 Poisson   Df Model:                            0\n",
       "Link Function:                    log   Scale:                          1.0000\n",
       "Method:                        newton   Log-Likelihood:                -57590.\n",
       "Date:                Tue, 06 Jul 2021   Deviance:                       43155.\n",
       "Time:                        20:27:05   Pearson chi2:                 3.96e+04\n",
       "No. Iterations:                     2                                         \n",
       "Covariance Type:            nonrobust                                         \n",
       "==============================================================================\n",
       "                 coef    std err          z      P>|z|      [0.025      0.975]\n",
       "------------------------------------------------------------------------------\n",
       "trend          0.3413      0.001    433.723      0.000       0.340       0.343\n",
       "==============================================================================\n",
       "\"\"\""
      ]
     },
     "execution_count": 75,
     "metadata": {},
     "output_type": "execute_result"
    }
   ],
   "source": [
    "#linmodel = ols('patients ~ trend', data = patients_train).fit()\n",
    "#p = linmodel.params\n",
    "#linmodel.summary()\n",
    "\n",
    "pmodel = GLM(patients_train.patients, patients_train.trend, family = Poisson(links.log()) )\n",
    "pres = pmodel.fit(method=\"newton\")\n",
    "pres.summary()"
   ]
  },
  {
   "cell_type": "markdown",
   "metadata": {},
   "source": [
    "Next, we'll use the model we've created to predict the number of patients in the test set and in the training set. Then, we'll plot them with the original values to compare the model's performance."
   ]
  },
  {
   "cell_type": "code",
   "execution_count": 76,
   "metadata": {},
   "outputs": [
    {
     "data": {
      "text/html": [
       "<div>\n",
       "<style scoped>\n",
       "    .dataframe tbody tr th:only-of-type {\n",
       "        vertical-align: middle;\n",
       "    }\n",
       "\n",
       "    .dataframe tbody tr th {\n",
       "        vertical-align: top;\n",
       "    }\n",
       "\n",
       "    .dataframe thead th {\n",
       "        text-align: right;\n",
       "    }\n",
       "</style>\n",
       "<table border=\"1\" class=\"dataframe\">\n",
       "  <thead>\n",
       "    <tr style=\"text-align: right;\">\n",
       "      <th></th>\n",
       "      <th>mean</th>\n",
       "      <th>mean_se</th>\n",
       "      <th>mean_ci_lower</th>\n",
       "      <th>mean_ci_upper</th>\n",
       "    </tr>\n",
       "  </thead>\n",
       "  <tbody>\n",
       "    <tr>\n",
       "      <th>24540</th>\n",
       "      <td>4.778965</td>\n",
       "      <td>0.017235</td>\n",
       "      <td>4.745303</td>\n",
       "      <td>4.812865</td>\n",
       "    </tr>\n",
       "    <tr>\n",
       "      <th>24541</th>\n",
       "      <td>4.711488</td>\n",
       "      <td>0.016838</td>\n",
       "      <td>4.678602</td>\n",
       "      <td>4.744605</td>\n",
       "    </tr>\n",
       "    <tr>\n",
       "      <th>24542</th>\n",
       "      <td>4.644964</td>\n",
       "      <td>0.016447</td>\n",
       "      <td>4.612839</td>\n",
       "      <td>4.677312</td>\n",
       "    </tr>\n",
       "    <tr>\n",
       "      <th>24543</th>\n",
       "      <td>4.579379</td>\n",
       "      <td>0.016065</td>\n",
       "      <td>4.548000</td>\n",
       "      <td>4.610974</td>\n",
       "    </tr>\n",
       "    <tr>\n",
       "      <th>24544</th>\n",
       "      <td>4.612054</td>\n",
       "      <td>0.016255</td>\n",
       "      <td>4.580304</td>\n",
       "      <td>4.644025</td>\n",
       "    </tr>\n",
       "    <tr>\n",
       "      <th>24545</th>\n",
       "      <td>4.678107</td>\n",
       "      <td>0.016642</td>\n",
       "      <td>4.645604</td>\n",
       "      <td>4.710838</td>\n",
       "    </tr>\n",
       "    <tr>\n",
       "      <th>24546</th>\n",
       "      <td>4.514720</td>\n",
       "      <td>0.015690</td>\n",
       "      <td>4.484072</td>\n",
       "      <td>4.545577</td>\n",
       "    </tr>\n",
       "    <tr>\n",
       "      <th>24547</th>\n",
       "      <td>4.419439</td>\n",
       "      <td>0.015142</td>\n",
       "      <td>4.389861</td>\n",
       "      <td>4.449216</td>\n",
       "    </tr>\n",
       "    <tr>\n",
       "      <th>24548</th>\n",
       "      <td>4.450974</td>\n",
       "      <td>0.015323</td>\n",
       "      <td>4.421043</td>\n",
       "      <td>4.481107</td>\n",
       "    </tr>\n",
       "    <tr>\n",
       "      <th>24549</th>\n",
       "      <td>4.388128</td>\n",
       "      <td>0.014963</td>\n",
       "      <td>4.358899</td>\n",
       "      <td>4.417552</td>\n",
       "    </tr>\n",
       "  </tbody>\n",
       "</table>\n",
       "</div>"
      ],
      "text/plain": [
       "           mean   mean_se  mean_ci_lower  mean_ci_upper\n",
       "24540  4.778965  0.017235       4.745303       4.812865\n",
       "24541  4.711488  0.016838       4.678602       4.744605\n",
       "24542  4.644964  0.016447       4.612839       4.677312\n",
       "24543  4.579379  0.016065       4.548000       4.610974\n",
       "24544  4.612054  0.016255       4.580304       4.644025\n",
       "24545  4.678107  0.016642       4.645604       4.710838\n",
       "24546  4.514720  0.015690       4.484072       4.545577\n",
       "24547  4.419439  0.015142       4.389861       4.449216\n",
       "24548  4.450974  0.015323       4.421043       4.481107\n",
       "24549  4.388128  0.014963       4.358899       4.417552"
      ]
     },
     "execution_count": 76,
     "metadata": {},
     "output_type": "execute_result"
    }
   ],
   "source": [
    "#linpred = linmodel.predict(patients_test)\n",
    "\n",
    "poisson_predictions = pres.get_prediction(patients_test.trend)\n",
    "psf_test = poisson_predictions.summary_frame()\n",
    "psf_test.head(10)"
   ]
  },
  {
   "cell_type": "code",
   "execution_count": 77,
   "metadata": {},
   "outputs": [
    {
     "data": {
      "text/html": [
       "<div>\n",
       "<style scoped>\n",
       "    .dataframe tbody tr th:only-of-type {\n",
       "        vertical-align: middle;\n",
       "    }\n",
       "\n",
       "    .dataframe tbody tr th {\n",
       "        vertical-align: top;\n",
       "    }\n",
       "\n",
       "    .dataframe thead th {\n",
       "        text-align: right;\n",
       "    }\n",
       "</style>\n",
       "<table border=\"1\" class=\"dataframe\">\n",
       "  <thead>\n",
       "    <tr style=\"text-align: right;\">\n",
       "      <th></th>\n",
       "      <th>mean</th>\n",
       "      <th>mean_se</th>\n",
       "      <th>mean_ci_lower</th>\n",
       "      <th>mean_ci_upper</th>\n",
       "    </tr>\n",
       "  </thead>\n",
       "  <tbody>\n",
       "    <tr>\n",
       "      <th>12</th>\n",
       "      <td>3.570514</td>\n",
       "      <td>0.010477</td>\n",
       "      <td>3.550038</td>\n",
       "      <td>3.591108</td>\n",
       "    </tr>\n",
       "    <tr>\n",
       "      <th>13</th>\n",
       "      <td>3.545217</td>\n",
       "      <td>0.010345</td>\n",
       "      <td>3.524999</td>\n",
       "      <td>3.565551</td>\n",
       "    </tr>\n",
       "    <tr>\n",
       "      <th>14</th>\n",
       "      <td>3.520100</td>\n",
       "      <td>0.010214</td>\n",
       "      <td>3.500138</td>\n",
       "      <td>3.540175</td>\n",
       "    </tr>\n",
       "    <tr>\n",
       "      <th>15</th>\n",
       "      <td>3.495160</td>\n",
       "      <td>0.010084</td>\n",
       "      <td>3.475451</td>\n",
       "      <td>3.514981</td>\n",
       "    </tr>\n",
       "    <tr>\n",
       "      <th>16</th>\n",
       "      <td>3.495160</td>\n",
       "      <td>0.010084</td>\n",
       "      <td>3.475451</td>\n",
       "      <td>3.514981</td>\n",
       "    </tr>\n",
       "    <tr>\n",
       "      <th>17</th>\n",
       "      <td>3.445810</td>\n",
       "      <td>0.009829</td>\n",
       "      <td>3.426599</td>\n",
       "      <td>3.465128</td>\n",
       "    </tr>\n",
       "    <tr>\n",
       "      <th>18</th>\n",
       "      <td>3.421397</td>\n",
       "      <td>0.009703</td>\n",
       "      <td>3.402432</td>\n",
       "      <td>3.440467</td>\n",
       "    </tr>\n",
       "    <tr>\n",
       "      <th>19</th>\n",
       "      <td>3.445810</td>\n",
       "      <td>0.009829</td>\n",
       "      <td>3.426599</td>\n",
       "      <td>3.465128</td>\n",
       "    </tr>\n",
       "    <tr>\n",
       "      <th>20</th>\n",
       "      <td>3.373088</td>\n",
       "      <td>0.009456</td>\n",
       "      <td>3.354606</td>\n",
       "      <td>3.391671</td>\n",
       "    </tr>\n",
       "    <tr>\n",
       "      <th>21</th>\n",
       "      <td>3.325461</td>\n",
       "      <td>0.009213</td>\n",
       "      <td>3.307453</td>\n",
       "      <td>3.343568</td>\n",
       "    </tr>\n",
       "  </tbody>\n",
       "</table>\n",
       "</div>"
      ],
      "text/plain": [
       "        mean   mean_se  mean_ci_lower  mean_ci_upper\n",
       "12  3.570514  0.010477       3.550038       3.591108\n",
       "13  3.545217  0.010345       3.524999       3.565551\n",
       "14  3.520100  0.010214       3.500138       3.540175\n",
       "15  3.495160  0.010084       3.475451       3.514981\n",
       "16  3.495160  0.010084       3.475451       3.514981\n",
       "17  3.445810  0.009829       3.426599       3.465128\n",
       "18  3.421397  0.009703       3.402432       3.440467\n",
       "19  3.445810  0.009829       3.426599       3.465128\n",
       "20  3.373088  0.009456       3.354606       3.391671\n",
       "21  3.325461  0.009213       3.307453       3.343568"
      ]
     },
     "execution_count": 77,
     "metadata": {},
     "output_type": "execute_result"
    }
   ],
   "source": [
    "#linfit = linmodel.predict(patients_train)\n",
    "\n",
    "poisson_fit = pres.get_prediction(patients_train.trend)\n",
    "psf_fit = poisson_fit.summary_frame()\n",
    "psf_fit.head(10)"
   ]
  },
  {
   "cell_type": "code",
   "execution_count": 78,
   "metadata": {},
   "outputs": [
    {
     "data": {
      "text/plain": [
       "[]"
      ]
     },
     "execution_count": 78,
     "metadata": {},
     "output_type": "execute_result"
    },
    {
     "data": {
      "image/png": "[encoded data removed]",
      "text/plain": [
       "<Figure size 576x288 with 1 Axes>"
      ]
     },
     "metadata": {
      "needs_background": "light"
     },
     "output_type": "display_data"
    }
   ],
   "source": [
    "#fig, ax = plt.subplots(figsize=(8,4))\n",
    "#ax.plot(patients_df['timestamp'], patients_df['patients'])\n",
    "#ax.plot(patients_test['timestamp'], linpred, 'r')\n",
    "#ax.plot(patients_train['timestamp'], linfit, 'purple')\n",
    "#ax.plot()\n",
    "\n",
    "fig, ax = plt.subplots(figsize=(8,4))\n",
    "ax.plot(patients_df['timestamp'], patients_df['patients'])\n",
    "ax.plot(patients_test['timestamp'], psf_test[\"mean\"], 'r')\n",
    "ax.plot(patients_train['timestamp'], psf_fit[\"mean\"], 'purple')\n",
    "ax.plot()"
   ]
  },
  {
   "cell_type": "markdown",
   "metadata": {},
   "source": [
    "#### Let's zoom in a bit to the datetime when the training set ends and the test set begins"
   ]
  },
  {
   "cell_type": "code",
   "execution_count": 79,
   "metadata": {},
   "outputs": [
    {
     "data": {
      "text/plain": [
       "[]"
      ]
     },
     "execution_count": 79,
     "metadata": {},
     "output_type": "execute_result"
    },
    {
     "data": {
      "image/png": "[encoded data removed]",
      "text/plain": [
       "<Figure size 576x288 with 1 Axes>"
      ]
     },
     "metadata": {
      "needs_background": "light"
     },
     "output_type": "display_data"
    }
   ],
   "source": [
    "#fig, ax = plt.subplots(figsize=(8,4))\n",
    "#ax.plot(patients_df['timestamp'], patients_df['patients'])\n",
    "#ax.plot(patients_test['timestamp'], linpred, 'r')\n",
    "#ax.plot(patients_train['timestamp'], linfit, 'purple')\n",
    "#ax.set_xlim([datetime.date(2016, 10, 1), datetime.date(2016, 11, 15)])\n",
    "#ax.plot()\n",
    "\n",
    "fig, ax = plt.subplots(figsize=(8,4))\n",
    "ax.plot(patients_df['timestamp'], patients_df['patients'])\n",
    "ax.plot(patients_test['timestamp'], psf_test[\"mean\"], 'r')\n",
    "ax.plot(patients_train['timestamp'], psf_fit[\"mean\"], 'purple')\n",
    "ax.set_xlim([datetime.date(2016, 10, 1), datetime.date(2016, 11, 15)])\n",
    "ax.plot()"
   ]
  },
  {
   "cell_type": "markdown",
   "metadata": {},
   "source": [
    "### Measuring the error in our predictions"
   ]
  },
  {
   "cell_type": "code",
   "execution_count": 80,
   "metadata": {},
   "outputs": [],
   "source": [
    "from sklearn.metrics import mean_squared_error"
   ]
  },
  {
   "cell_type": "markdown",
   "metadata": {},
   "source": [
    "Examining the Mean Squared Error for the training set"
   ]
  },
  {
   "cell_type": "code",
   "execution_count": 81,
   "metadata": {},
   "outputs": [
    {
     "data": {
      "text/plain": [
       "6.338465369127855"
      ]
     },
     "execution_count": 81,
     "metadata": {},
     "output_type": "execute_result"
    }
   ],
   "source": [
    "y_true = patients_df.iloc[12:24540,1] # This is the 'patients' column for the training set\n",
    "y_pred = psf_fit[\"mean\"]\n",
    "trend_only_mse_training = mean_squared_error(y_true, y_pred)\n",
    "trend_only_mse_training"
   ]
  },
  {
   "cell_type": "markdown",
   "metadata": {},
   "source": [
    "Examining the Root Mean Squared Error for the training set"
   ]
  },
  {
   "cell_type": "code",
   "execution_count": 82,
   "metadata": {},
   "outputs": [
    {
     "data": {
      "text/plain": [
       "2.5176309040699065"
      ]
     },
     "execution_count": 82,
     "metadata": {},
     "output_type": "execute_result"
    }
   ],
   "source": [
    "trend_only_rmse_training = math.sqrt(mean_squared_error(y_true, y_pred))\n",
    "trend_only_rmse_training"
   ]
  },
  {
   "cell_type": "markdown",
   "metadata": {},
   "source": [
    "Let's check the residuals, too"
   ]
  },
  {
   "cell_type": "code",
   "execution_count": 83,
   "metadata": {},
   "outputs": [
    {
     "data": {
      "image/png": "[encoded data removed]",
      "text/plain": [
       "<Figure size 432x180 with 1 Axes>"
      ]
     },
     "metadata": {
      "needs_background": "light"
     },
     "output_type": "display_data"
    }
   ],
   "source": [
    "#residual = y_true - y_pred\n",
    "#fig, ax = plt.subplots(figsize=(6,2.5))\n",
    "#_ = ax.scatter(y_pred, residual)\n",
    "\n",
    "residual = y_true - round(y_pred)\n",
    "fig, ax = plt.subplots(figsize=(6,2.5))\n",
    "_ = ax.scatter(round(y_pred), residual)"
   ]
  },
  {
   "cell_type": "markdown",
   "metadata": {},
   "source": [
    "These residuals suggest that our model tends to under-predict the number of patients per hour."
   ]
  },
  {
   "cell_type": "markdown",
   "metadata": {},
   "source": [
    "MSE for the test set"
   ]
  },
  {
   "cell_type": "code",
   "execution_count": 84,
   "metadata": {},
   "outputs": [
    {
     "data": {
      "text/plain": [
       "8.382552645444864"
      ]
     },
     "execution_count": 84,
     "metadata": {},
     "output_type": "execute_result"
    }
   ],
   "source": [
    "y_true = patients_df.iloc[24540:35052,1]\n",
    "y_pred = psf_test[\"mean\"]\n",
    "trend_only_mse_test = mean_squared_error(y_true, y_pred)\n",
    "trend_only_mse_test"
   ]
  },
  {
   "cell_type": "markdown",
   "metadata": {},
   "source": [
    "RMSE for the test set"
   ]
  },
  {
   "cell_type": "code",
   "execution_count": 85,
   "metadata": {},
   "outputs": [
    {
     "data": {
      "text/plain": [
       "2.895263830023935"
      ]
     },
     "execution_count": 85,
     "metadata": {},
     "output_type": "execute_result"
    }
   ],
   "source": [
    "trend_only_rmse_test = math.sqrt(mean_squared_error(y_true, y_pred))\n",
    "trend_only_rmse_test"
   ]
  },
  {
   "cell_type": "code",
   "execution_count": 86,
   "metadata": {},
   "outputs": [
    {
     "data": {
      "image/png": "[encoded data removed]",
      "text/plain": [
       "<Figure size 432x180 with 1 Axes>"
      ]
     },
     "metadata": {
      "needs_background": "light"
     },
     "output_type": "display_data"
    }
   ],
   "source": [
    "residual = y_true - round(y_pred)\n",
    "fig, ax = plt.subplots(figsize=(6,2.5))\n",
    "_ = ax.scatter(round(y_pred), residual)"
   ]
  },
  {
   "cell_type": "markdown",
   "metadata": {},
   "source": [
    "### OLS with trend and seasonal component"
   ]
  },
  {
   "cell_type": "markdown",
   "metadata": {},
   "source": [
    "Next, we'll try the same process again, but instead of just having trend as a variable, we'll add the seasonal component (in hours). The capital C in front of hour indicates that it should be used as a categorical variable."
   ]
  },
  {
   "cell_type": "code",
   "execution_count": 95,
   "metadata": {},
   "outputs": [],
   "source": [
    "from patsy import dmatrices"
   ]
  },
  {
   "cell_type": "code",
   "execution_count": 96,
   "metadata": {},
   "outputs": [
    {
     "data": {
      "text/html": [
       "<table class=\"simpletable\">\n",
       "<caption>Generalized Linear Model Regression Results</caption>\n",
       "<tr>\n",
       "  <th>Dep. Variable:</th>       <td>patients</td>     <th>  No. Observations:  </th>  <td> 24528</td> \n",
       "</tr>\n",
       "<tr>\n",
       "  <th>Model:</th>                  <td>GLM</td>       <th>  Df Residuals:      </th>  <td> 24503</td> \n",
       "</tr>\n",
       "<tr>\n",
       "  <th>Model Family:</th>         <td>Poisson</td>     <th>  Df Model:          </th>  <td>    24</td> \n",
       "</tr>\n",
       "<tr>\n",
       "  <th>Link Function:</th>          <td>log</td>       <th>  Scale:             </th> <td>  1.0000</td>\n",
       "</tr>\n",
       "<tr>\n",
       "  <th>Method:</th>               <td>newton</td>      <th>  Log-Likelihood:    </th> <td> -49036.</td>\n",
       "</tr>\n",
       "<tr>\n",
       "  <th>Date:</th>            <td>Tue, 06 Jul 2021</td> <th>  Deviance:          </th> <td>  26046.</td>\n",
       "</tr>\n",
       "<tr>\n",
       "  <th>Time:</th>                <td>20:38:46</td>     <th>  Pearson chi2:      </th> <td>2.40e+04</td>\n",
       "</tr>\n",
       "<tr>\n",
       "  <th>No. Iterations:</th>          <td>2</td>        <th>                     </th>     <td> </td>   \n",
       "</tr>\n",
       "<tr>\n",
       "  <th>Covariance Type:</th>     <td>nonrobust</td>    <th>                     </th>     <td> </td>   \n",
       "</tr>\n",
       "</table>\n",
       "<table class=\"simpletable\">\n",
       "<tr>\n",
       "        <td></td>           <th>coef</th>     <th>std err</th>      <th>z</th>      <th>P>|z|</th>  <th>[0.025</th>    <th>0.975]</th>  \n",
       "</tr>\n",
       "<tr>\n",
       "  <th>Intercept</th>     <td>   -0.1463</td> <td>    0.030</td> <td>   -4.942</td> <td> 0.000</td> <td>   -0.204</td> <td>   -0.088</td>\n",
       "</tr>\n",
       "<tr>\n",
       "  <th>C(hour)[T.1]</th>  <td>   -0.2187</td> <td>    0.029</td> <td>   -7.415</td> <td> 0.000</td> <td>   -0.276</td> <td>   -0.161</td>\n",
       "</tr>\n",
       "<tr>\n",
       "  <th>C(hour)[T.2]</th>  <td>   -0.3602</td> <td>    0.031</td> <td>  -11.731</td> <td> 0.000</td> <td>   -0.420</td> <td>   -0.300</td>\n",
       "</tr>\n",
       "<tr>\n",
       "  <th>C(hour)[T.3]</th>  <td>   -0.4638</td> <td>    0.032</td> <td>  -14.640</td> <td> 0.000</td> <td>   -0.526</td> <td>   -0.402</td>\n",
       "</tr>\n",
       "<tr>\n",
       "  <th>C(hour)[T.4]</th>  <td>   -0.5368</td> <td>    0.032</td> <td>  -16.564</td> <td> 0.000</td> <td>   -0.600</td> <td>   -0.473</td>\n",
       "</tr>\n",
       "<tr>\n",
       "  <th>C(hour)[T.5]</th>  <td>   -0.5591</td> <td>    0.033</td> <td>  -17.132</td> <td> 0.000</td> <td>   -0.623</td> <td>   -0.495</td>\n",
       "</tr>\n",
       "<tr>\n",
       "  <th>C(hour)[T.6]</th>  <td>   -0.3094</td> <td>    0.030</td> <td>  -10.229</td> <td> 0.000</td> <td>   -0.369</td> <td>   -0.250</td>\n",
       "</tr>\n",
       "<tr>\n",
       "  <th>C(hour)[T.7]</th>  <td>   -0.0104</td> <td>    0.028</td> <td>   -0.371</td> <td> 0.711</td> <td>   -0.065</td> <td>    0.044</td>\n",
       "</tr>\n",
       "<tr>\n",
       "  <th>C(hour)[T.8]</th>  <td>    0.3939</td> <td>    0.025</td> <td>   15.468</td> <td> 0.000</td> <td>    0.344</td> <td>    0.444</td>\n",
       "</tr>\n",
       "<tr>\n",
       "  <th>C(hour)[T.9]</th>  <td>    0.6292</td> <td>    0.024</td> <td>   25.823</td> <td> 0.000</td> <td>    0.581</td> <td>    0.677</td>\n",
       "</tr>\n",
       "<tr>\n",
       "  <th>C(hour)[T.10]</th> <td>    0.6970</td> <td>    0.024</td> <td>   28.934</td> <td> 0.000</td> <td>    0.650</td> <td>    0.744</td>\n",
       "</tr>\n",
       "<tr>\n",
       "  <th>C(hour)[T.11]</th> <td>    0.7404</td> <td>    0.024</td> <td>   30.954</td> <td> 0.000</td> <td>    0.693</td> <td>    0.787</td>\n",
       "</tr>\n",
       "<tr>\n",
       "  <th>C(hour)[T.12]</th> <td>    0.7713</td> <td>    0.024</td> <td>   32.405</td> <td> 0.000</td> <td>    0.725</td> <td>    0.818</td>\n",
       "</tr>\n",
       "<tr>\n",
       "  <th>C(hour)[T.13]</th> <td>    0.7382</td> <td>    0.024</td> <td>   30.851</td> <td> 0.000</td> <td>    0.691</td> <td>    0.785</td>\n",
       "</tr>\n",
       "<tr>\n",
       "  <th>C(hour)[T.14]</th> <td>    0.7396</td> <td>    0.024</td> <td>   30.916</td> <td> 0.000</td> <td>    0.693</td> <td>    0.786</td>\n",
       "</tr>\n",
       "<tr>\n",
       "  <th>C(hour)[T.15]</th> <td>    0.7453</td> <td>    0.024</td> <td>   31.182</td> <td> 0.000</td> <td>    0.698</td> <td>    0.792</td>\n",
       "</tr>\n",
       "<tr>\n",
       "  <th>C(hour)[T.16]</th> <td>    0.7640</td> <td>    0.024</td> <td>   32.059</td> <td> 0.000</td> <td>    0.717</td> <td>    0.811</td>\n",
       "</tr>\n",
       "<tr>\n",
       "  <th>C(hour)[T.17]</th> <td>    0.7986</td> <td>    0.024</td> <td>   33.697</td> <td> 0.000</td> <td>    0.752</td> <td>    0.845</td>\n",
       "</tr>\n",
       "<tr>\n",
       "  <th>C(hour)[T.18]</th> <td>    0.7659</td> <td>    0.024</td> <td>   32.149</td> <td> 0.000</td> <td>    0.719</td> <td>    0.813</td>\n",
       "</tr>\n",
       "<tr>\n",
       "  <th>C(hour)[T.19]</th> <td>    0.7472</td> <td>    0.024</td> <td>   31.269</td> <td> 0.000</td> <td>    0.700</td> <td>    0.794</td>\n",
       "</tr>\n",
       "<tr>\n",
       "  <th>C(hour)[T.20]</th> <td>    0.7226</td> <td>    0.024</td> <td>   30.118</td> <td> 0.000</td> <td>    0.676</td> <td>    0.770</td>\n",
       "</tr>\n",
       "<tr>\n",
       "  <th>C(hour)[T.21]</th> <td>    0.6415</td> <td>    0.024</td> <td>   26.378</td> <td> 0.000</td> <td>    0.594</td> <td>    0.689</td>\n",
       "</tr>\n",
       "<tr>\n",
       "  <th>C(hour)[T.22]</th> <td>    0.4790</td> <td>    0.025</td> <td>   19.124</td> <td> 0.000</td> <td>    0.430</td> <td>    0.528</td>\n",
       "</tr>\n",
       "<tr>\n",
       "  <th>C(hour)[T.23]</th> <td>    0.2535</td> <td>    0.026</td> <td>    9.662</td> <td> 0.000</td> <td>    0.202</td> <td>    0.305</td>\n",
       "</tr>\n",
       "<tr>\n",
       "  <th>trend</th>         <td>    0.2691</td> <td>    0.005</td> <td>   49.075</td> <td> 0.000</td> <td>    0.258</td> <td>    0.280</td>\n",
       "</tr>\n",
       "</table>"
      ],
      "text/plain": [
       "<class 'statsmodels.iolib.summary.Summary'>\n",
       "\"\"\"\n",
       "                 Generalized Linear Model Regression Results                  \n",
       "==============================================================================\n",
       "Dep. Variable:               patients   No. Observations:                24528\n",
       "Model:                            GLM   Df Residuals:                    24503\n",
       "Model Family:                 Poisson   Df Model:                           24\n",
       "Link Function:                    log   Scale:                          1.0000\n",
       "Method:                        newton   Log-Likelihood:                -49036.\n",
       "Date:                Tue, 06 Jul 2021   Deviance:                       26046.\n",
       "Time:                        20:38:46   Pearson chi2:                 2.40e+04\n",
       "No. Iterations:                     2                                         \n",
       "Covariance Type:            nonrobust                                         \n",
       "=================================================================================\n",
       "                    coef    std err          z      P>|z|      [0.025      0.975]\n",
       "---------------------------------------------------------------------------------\n",
       "Intercept        -0.1463      0.030     -4.942      0.000      -0.204      -0.088\n",
       "C(hour)[T.1]     -0.2187      0.029     -7.415      0.000      -0.276      -0.161\n",
       "C(hour)[T.2]     -0.3602      0.031    -11.731      0.000      -0.420      -0.300\n",
       "C(hour)[T.3]     -0.4638      0.032    -14.640      0.000      -0.526      -0.402\n",
       "C(hour)[T.4]     -0.5368      0.032    -16.564      0.000      -0.600      -0.473\n",
       "C(hour)[T.5]     -0.5591      0.033    -17.132      0.000      -0.623      -0.495\n",
       "C(hour)[T.6]     -0.3094      0.030    -10.229      0.000      -0.369      -0.250\n",
       "C(hour)[T.7]     -0.0104      0.028     -0.371      0.711      -0.065       0.044\n",
       "C(hour)[T.8]      0.3939      0.025     15.468      0.000       0.344       0.444\n",
       "C(hour)[T.9]      0.6292      0.024     25.823      0.000       0.581       0.677\n",
       "C(hour)[T.10]     0.6970      0.024     28.934      0.000       0.650       0.744\n",
       "C(hour)[T.11]     0.7404      0.024     30.954      0.000       0.693       0.787\n",
       "C(hour)[T.12]     0.7713      0.024     32.405      0.000       0.725       0.818\n",
       "C(hour)[T.13]     0.7382      0.024     30.851      0.000       0.691       0.785\n",
       "C(hour)[T.14]     0.7396      0.024     30.916      0.000       0.693       0.786\n",
       "C(hour)[T.15]     0.7453      0.024     31.182      0.000       0.698       0.792\n",
       "C(hour)[T.16]     0.7640      0.024     32.059      0.000       0.717       0.811\n",
       "C(hour)[T.17]     0.7986      0.024     33.697      0.000       0.752       0.845\n",
       "C(hour)[T.18]     0.7659      0.024     32.149      0.000       0.719       0.813\n",
       "C(hour)[T.19]     0.7472      0.024     31.269      0.000       0.700       0.794\n",
       "C(hour)[T.20]     0.7226      0.024     30.118      0.000       0.676       0.770\n",
       "C(hour)[T.21]     0.6415      0.024     26.378      0.000       0.594       0.689\n",
       "C(hour)[T.22]     0.4790      0.025     19.124      0.000       0.430       0.528\n",
       "C(hour)[T.23]     0.2535      0.026      9.662      0.000       0.202       0.305\n",
       "trend             0.2691      0.005     49.075      0.000       0.258       0.280\n",
       "=================================================================================\n",
       "\"\"\""
      ]
     },
     "execution_count": 96,
     "metadata": {},
     "output_type": "execute_result"
    }
   ],
   "source": [
    "#linmodel = ols('patients ~ trend + C(hour)', data = patients_train).fit()\n",
    "#linmodel.summary()\n",
    "formula = \"patients ~ trend + C(hour)\"\n",
    "response, predictors = dmatrices(formula, patients_train, return_type=\"dataframe\")\n",
    "pres2 = GLM(response, predictors, family=Poisson(links.log())).fit(method=\"newton\")\n",
    "pres2.summary()"
   ]
  },
  {
   "cell_type": "code",
   "execution_count": 98,
   "metadata": {},
   "outputs": [
    {
     "data": {
      "text/html": [
       "<div>\n",
       "<style scoped>\n",
       "    .dataframe tbody tr th:only-of-type {\n",
       "        vertical-align: middle;\n",
       "    }\n",
       "\n",
       "    .dataframe tbody tr th {\n",
       "        vertical-align: top;\n",
       "    }\n",
       "\n",
       "    .dataframe thead th {\n",
       "        text-align: right;\n",
       "    }\n",
       "</style>\n",
       "<table border=\"1\" class=\"dataframe\">\n",
       "  <thead>\n",
       "    <tr style=\"text-align: right;\">\n",
       "      <th></th>\n",
       "      <th>mean</th>\n",
       "      <th>mean_se</th>\n",
       "      <th>mean_ci_lower</th>\n",
       "      <th>mean_ci_upper</th>\n",
       "    </tr>\n",
       "  </thead>\n",
       "  <tbody>\n",
       "    <tr>\n",
       "      <th>24540</th>\n",
       "      <td>6.413966</td>\n",
       "      <td>0.087942</td>\n",
       "      <td>6.243898</td>\n",
       "      <td>6.588665</td>\n",
       "    </tr>\n",
       "    <tr>\n",
       "      <th>24541</th>\n",
       "      <td>6.135908</td>\n",
       "      <td>0.085178</td>\n",
       "      <td>5.971214</td>\n",
       "      <td>6.305145</td>\n",
       "    </tr>\n",
       "    <tr>\n",
       "      <th>24542</th>\n",
       "      <td>6.076044</td>\n",
       "      <td>0.084033</td>\n",
       "      <td>5.913554</td>\n",
       "      <td>6.242997</td>\n",
       "    </tr>\n",
       "    <tr>\n",
       "      <th>24543</th>\n",
       "      <td>6.042570</td>\n",
       "      <td>0.083110</td>\n",
       "      <td>5.881853</td>\n",
       "      <td>6.207678</td>\n",
       "    </tr>\n",
       "    <tr>\n",
       "      <th>24544</th>\n",
       "      <td>6.191312</td>\n",
       "      <td>0.084521</td>\n",
       "      <td>6.027851</td>\n",
       "      <td>6.359206</td>\n",
       "    </tr>\n",
       "    <tr>\n",
       "      <th>24545</th>\n",
       "      <td>6.481978</td>\n",
       "      <td>0.087307</td>\n",
       "      <td>6.313099</td>\n",
       "      <td>6.655375</td>\n",
       "    </tr>\n",
       "    <tr>\n",
       "      <th>24546</th>\n",
       "      <td>6.099770</td>\n",
       "      <td>0.082854</td>\n",
       "      <td>5.939522</td>\n",
       "      <td>6.264341</td>\n",
       "    </tr>\n",
       "    <tr>\n",
       "      <th>24547</th>\n",
       "      <td>5.886841</td>\n",
       "      <td>0.080424</td>\n",
       "      <td>5.731305</td>\n",
       "      <td>6.046599</td>\n",
       "    </tr>\n",
       "    <tr>\n",
       "      <th>24548</th>\n",
       "      <td>5.776018</td>\n",
       "      <td>0.079978</td>\n",
       "      <td>5.621373</td>\n",
       "      <td>5.934918</td>\n",
       "    </tr>\n",
       "    <tr>\n",
       "      <th>24549</th>\n",
       "      <td>5.266979</td>\n",
       "      <td>0.075744</td>\n",
       "      <td>5.120596</td>\n",
       "      <td>5.417546</td>\n",
       "    </tr>\n",
       "  </tbody>\n",
       "</table>\n",
       "</div>"
      ],
      "text/plain": [
       "           mean   mean_se  mean_ci_lower  mean_ci_upper\n",
       "24540  6.413966  0.087942       6.243898       6.588665\n",
       "24541  6.135908  0.085178       5.971214       6.305145\n",
       "24542  6.076044  0.084033       5.913554       6.242997\n",
       "24543  6.042570  0.083110       5.881853       6.207678\n",
       "24544  6.191312  0.084521       6.027851       6.359206\n",
       "24545  6.481978  0.087307       6.313099       6.655375\n",
       "24546  6.099770  0.082854       5.939522       6.264341\n",
       "24547  5.886841  0.080424       5.731305       6.046599\n",
       "24548  5.776018  0.079978       5.621373       5.934918\n",
       "24549  5.266979  0.075744       5.120596       5.417546"
      ]
     },
     "execution_count": 98,
     "metadata": {},
     "output_type": "execute_result"
    }
   ],
   "source": [
    "#linpred = linmodel.predict(patients_test)\n",
    "\n",
    "response2, predictors2 = dmatrices(formula, patients_test, return_type=\"dataframe\")\n",
    "poisson_predictions2 = pres2.get_prediction(predictors2)\n",
    "psf_test2 = poisson_predictions2.summary_frame()\n",
    "psf_test2.head(10)"
   ]
  },
  {
   "cell_type": "code",
   "execution_count": 100,
   "metadata": {},
   "outputs": [
    {
     "data": {
      "text/html": [
       "<div>\n",
       "<style scoped>\n",
       "    .dataframe tbody tr th:only-of-type {\n",
       "        vertical-align: middle;\n",
       "    }\n",
       "\n",
       "    .dataframe tbody tr th {\n",
       "        vertical-align: top;\n",
       "    }\n",
       "\n",
       "    .dataframe thead th {\n",
       "        text-align: right;\n",
       "    }\n",
       "</style>\n",
       "<table border=\"1\" class=\"dataframe\">\n",
       "  <thead>\n",
       "    <tr style=\"text-align: right;\">\n",
       "      <th></th>\n",
       "      <th>mean</th>\n",
       "      <th>mean_se</th>\n",
       "      <th>mean_ci_lower</th>\n",
       "      <th>mean_ci_upper</th>\n",
       "    </tr>\n",
       "  </thead>\n",
       "  <tbody>\n",
       "    <tr>\n",
       "      <th>12</th>\n",
       "      <td>5.096708</td>\n",
       "      <td>0.068734</td>\n",
       "      <td>4.963757</td>\n",
       "      <td>5.233221</td>\n",
       "    </tr>\n",
       "    <tr>\n",
       "      <th>13</th>\n",
       "      <td>4.903171</td>\n",
       "      <td>0.067282</td>\n",
       "      <td>4.773058</td>\n",
       "      <td>5.036831</td>\n",
       "    </tr>\n",
       "    <tr>\n",
       "      <th>14</th>\n",
       "      <td>4.882633</td>\n",
       "      <td>0.067031</td>\n",
       "      <td>4.753007</td>\n",
       "      <td>5.015795</td>\n",
       "    </tr>\n",
       "    <tr>\n",
       "      <th>15</th>\n",
       "      <td>4.883037</td>\n",
       "      <td>0.066930</td>\n",
       "      <td>4.753602</td>\n",
       "      <td>5.015996</td>\n",
       "    </tr>\n",
       "    <tr>\n",
       "      <th>16</th>\n",
       "      <td>4.975262</td>\n",
       "      <td>0.067574</td>\n",
       "      <td>4.844567</td>\n",
       "      <td>5.109482</td>\n",
       "    </tr>\n",
       "    <tr>\n",
       "      <th>17</th>\n",
       "      <td>5.093316</td>\n",
       "      <td>0.068200</td>\n",
       "      <td>4.961385</td>\n",
       "      <td>5.228756</td>\n",
       "    </tr>\n",
       "    <tr>\n",
       "      <th>18</th>\n",
       "      <td>4.901700</td>\n",
       "      <td>0.066783</td>\n",
       "      <td>4.772540</td>\n",
       "      <td>5.034355</td>\n",
       "    </tr>\n",
       "    <tr>\n",
       "      <th>19</th>\n",
       "      <td>4.837888</td>\n",
       "      <td>0.066422</td>\n",
       "      <td>4.709438</td>\n",
       "      <td>4.969840</td>\n",
       "    </tr>\n",
       "    <tr>\n",
       "      <th>20</th>\n",
       "      <td>4.641537</td>\n",
       "      <td>0.064769</td>\n",
       "      <td>4.516312</td>\n",
       "      <td>4.770234</td>\n",
       "    </tr>\n",
       "    <tr>\n",
       "      <th>21</th>\n",
       "      <td>4.232479</td>\n",
       "      <td>0.061602</td>\n",
       "      <td>4.113448</td>\n",
       "      <td>4.354954</td>\n",
       "    </tr>\n",
       "  </tbody>\n",
       "</table>\n",
       "</div>"
      ],
      "text/plain": [
       "        mean   mean_se  mean_ci_lower  mean_ci_upper\n",
       "12  5.096708  0.068734       4.963757       5.233221\n",
       "13  4.903171  0.067282       4.773058       5.036831\n",
       "14  4.882633  0.067031       4.753007       5.015795\n",
       "15  4.883037  0.066930       4.753602       5.015996\n",
       "16  4.975262  0.067574       4.844567       5.109482\n",
       "17  5.093316  0.068200       4.961385       5.228756\n",
       "18  4.901700  0.066783       4.772540       5.034355\n",
       "19  4.837888  0.066422       4.709438       4.969840\n",
       "20  4.641537  0.064769       4.516312       4.770234\n",
       "21  4.232479  0.061602       4.113448       4.354954"
      ]
     },
     "execution_count": 100,
     "metadata": {},
     "output_type": "execute_result"
    }
   ],
   "source": [
    "#linfit = linmodel.predict(patients_train)\n",
    "\n",
    "poisson_fit2 = pres2.get_prediction(predictors)\n",
    "psf_fit2 = poisson_fit2.summary_frame()\n",
    "psf_fit2.head(10)"
   ]
  },
  {
   "cell_type": "code",
   "execution_count": 101,
   "metadata": {},
   "outputs": [
    {
     "data": {
      "text/plain": [
       "[]"
      ]
     },
     "execution_count": 101,
     "metadata": {},
     "output_type": "execute_result"
    },
    {
     "data": {
      "image/png": "[encoded data removed]",
      "text/plain": [
       "<Figure size 576x288 with 1 Axes>"
      ]
     },
     "metadata": {
      "needs_background": "light"
     },
     "output_type": "display_data"
    }
   ],
   "source": [
    "#fig, ax = plt.subplots(figsize=(8,4))\n",
    "#ax.plot(patients_df['timestamp'], patients_df['patients'])\n",
    "#ax.plot(patients_test['timestamp'], linpred, 'r')\n",
    "#ax.plot(patients_train['timestamp'], linfit, 'purple')\n",
    "#ax.plot()\n",
    "\n",
    "fig, ax = plt.subplots(figsize=(8,4))\n",
    "ax.plot(patients_df['timestamp'], patients_df['patients'])\n",
    "ax.plot(patients_test['timestamp'], psf_test2[\"mean\"], 'r')\n",
    "ax.plot(patients_train['timestamp'], psf_fit2[\"mean\"], 'purple')\n",
    "ax.plot()"
   ]
  },
  {
   "cell_type": "code",
   "execution_count": 102,
   "metadata": {},
   "outputs": [
    {
     "data": {
      "text/plain": [
       "[]"
      ]
     },
     "execution_count": 102,
     "metadata": {},
     "output_type": "execute_result"
    },
    {
     "data": {
      "image/png": "[encoded data removed]",
      "text/plain": [
       "<Figure size 576x288 with 1 Axes>"
      ]
     },
     "metadata": {
      "needs_background": "light"
     },
     "output_type": "display_data"
    }
   ],
   "source": [
    "#fig, ax = plt.subplots(figsize=(8,4))\n",
    "#ax.plot(patients_df['timestamp'], patients_df['patients'])\n",
    "#ax.plot(patients_test['timestamp'], linpred, 'r')\n",
    "#ax.plot(patients_train['timestamp'], linfit, 'purple')\n",
    "#ax.set_xlim([datetime.date(2016, 10, 1), datetime.date(2016, 11, 15)])\n",
    "#ax.plot()\n",
    "\n",
    "fig, ax = plt.subplots(figsize=(8,4))\n",
    "ax.plot(patients_df['timestamp'], patients_df['patients'])\n",
    "ax.plot(patients_test['timestamp'], psf_test2[\"mean\"], 'r')\n",
    "ax.plot(patients_train['timestamp'], psf_fit2[\"mean\"], 'purple')\n",
    "ax.set_xlim([datetime.date(2016, 10, 1), datetime.date(2016, 11, 15)])\n",
    "ax.plot()"
   ]
  },
  {
   "cell_type": "markdown",
   "metadata": {},
   "source": [
    "### Examining errors"
   ]
  },
  {
   "cell_type": "code",
   "execution_count": 103,
   "metadata": {},
   "outputs": [
    {
     "data": {
      "text/plain": [
       "3.8081104831534622"
      ]
     },
     "execution_count": 103,
     "metadata": {},
     "output_type": "execute_result"
    }
   ],
   "source": [
    "y_true = patients_df.iloc[12:24540,1] \n",
    "y_pred = psf_fit2[\"mean\"]\n",
    "trend_season_mse_training = mean_squared_error(y_true, y_pred)\n",
    "trend_season_mse_training"
   ]
  },
  {
   "cell_type": "code",
   "execution_count": 104,
   "metadata": {},
   "outputs": [
    {
     "data": {
      "text/plain": [
       "1.9514380551668715"
      ]
     },
     "execution_count": 104,
     "metadata": {},
     "output_type": "execute_result"
    }
   ],
   "source": [
    "trend_season_rmse_training = math.sqrt(mean_squared_error(y_true, y_pred))\n",
    "trend_season_rmse_training"
   ]
  },
  {
   "cell_type": "code",
   "execution_count": 105,
   "metadata": {},
   "outputs": [
    {
     "data": {
      "image/png": "[encoded data removed]",
      "text/plain": [
       "<Figure size 432x180 with 1 Axes>"
      ]
     },
     "metadata": {
      "needs_background": "light"
     },
     "output_type": "display_data"
    }
   ],
   "source": [
    "residual = y_true - round(y_pred)\n",
    "fig, ax = plt.subplots(figsize=(6,2.5))\n",
    "_ = ax.scatter(round(y_pred), residual)"
   ]
  },
  {
   "cell_type": "code",
   "execution_count": 106,
   "metadata": {},
   "outputs": [
    {
     "data": {
      "text/plain": [
       "4.520253474046552"
      ]
     },
     "execution_count": 106,
     "metadata": {},
     "output_type": "execute_result"
    }
   ],
   "source": [
    "y_true = patients_df.iloc[24540:35052,1]\n",
    "y_pred = psf_test2[\"mean\"]\n",
    "trend_season_mse_test = mean_squared_error(y_true, y_pred)\n",
    "trend_season_mse_test"
   ]
  },
  {
   "cell_type": "code",
   "execution_count": 107,
   "metadata": {},
   "outputs": [
    {
     "data": {
      "text/plain": [
       "2.126088773792513"
      ]
     },
     "execution_count": 107,
     "metadata": {},
     "output_type": "execute_result"
    }
   ],
   "source": [
    "trend_season_rmse_test = math.sqrt(mean_squared_error(y_true, y_pred))\n",
    "trend_season_rmse_test"
   ]
  },
  {
   "cell_type": "code",
   "execution_count": 108,
   "metadata": {},
   "outputs": [
    {
     "data": {
      "image/png": "[encoded data removed]",
      "text/plain": [
       "<Figure size 432x180 with 1 Axes>"
      ]
     },
     "metadata": {
      "needs_background": "light"
     },
     "output_type": "display_data"
    }
   ],
   "source": [
    "residual = y_true - round(y_pred)\n",
    "fig, ax = plt.subplots(figsize=(6,2.5))\n",
    "_ = ax.scatter(round(y_pred), residual)"
   ]
  },
  {
   "cell_type": "markdown",
   "metadata": {},
   "source": [
    "### Summary of Results"
   ]
  },
  {
   "cell_type": "code",
   "execution_count": 109,
   "metadata": {},
   "outputs": [
    {
     "name": "stdout",
     "output_type": "stream",
     "text": [
      "Trend Only:\n",
      "MSE for training: 6.338465369127855\n",
      "RMSE for training: 2.5176309040699065\n",
      "MSE for test: 8.382552645444864\n",
      "RMSE for test: 2.895263830023935\n",
      "---------------------------------------------------\n",
      "Trend and Season:\n",
      "MSE for training: 3.8081104831534622\n",
      "RMSE for training: 1.9514380551668715\n",
      "MSE for test: 4.520253474046552\n",
      "RMSE for test: 2.126088773792513\n"
     ]
    }
   ],
   "source": [
    "print('Trend Only:')\n",
    "print('MSE for training:', trend_only_mse_training)\n",
    "print('RMSE for training:', trend_only_rmse_training)\n",
    "print('MSE for test:', trend_only_mse_test)\n",
    "print('RMSE for test:', trend_only_rmse_test)\n",
    "print('---------------------------------------------------')\n",
    "print('Trend and Season:')\n",
    "print('MSE for training:', trend_season_mse_training)\n",
    "print('RMSE for training:', trend_season_rmse_training)\n",
    "print('MSE for test:', trend_season_mse_test)\n",
    "print('RMSE for test:', trend_season_rmse_test)"
   ]
  },
  {
   "cell_type": "code",
   "execution_count": null,
   "metadata": {},
   "outputs": [],
   "source": []
  }
 ],
 "metadata": {
  "kernelspec": {
   "display_name": "Python 3",
   "language": "python",
   "name": "python3"
  },
  "language_info": {
   "codemirror_mode": {
    "name": "ipython",
    "version": 3
   },
   "file_extension": ".py",
   "mimetype": "text/x-python",
   "name": "python",
   "nbconvert_exporter": "python",
   "pygments_lexer": "ipython3",
   "version": "3.8.5"
  }
 },
 "nbformat": 4,
 "nbformat_minor": 5
}
