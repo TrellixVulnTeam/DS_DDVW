{
 "cells": [
  {
   "cell_type": "markdown",
   "metadata": {},
   "source": [
    "# Outlier Handling Notebook: Models 1 & 2\n",
    "\n",
    "**Medicare DeSYNPuf Data: \n",
    "2009 Inpatient Claims for Risk Adjustment Modeling and Correspondence Analysis**\n",
    "\n",
    "HDS 823 Final Project: Advanced Statistics in Healthcare\n",
    "Kyle P. Rasku RN BSN"
   ]
  },
  {
   "cell_type": "code",
   "execution_count": 1,
   "metadata": {},
   "outputs": [],
   "source": [
    "%matplotlib inline\n",
    "import numpy as np\n",
    "import pandas as pd\n",
    "import seaborn as sb\n",
    "import matplotlib.pyplot as plt"
   ]
  },
  {
   "cell_type": "code",
   "execution_count": 2,
   "metadata": {},
   "outputs": [],
   "source": [
    "# Load 2009 IP & ELIX Data, Created by the Cleaning Notebook\n",
    "desynpuf = pd.read_csv(\"/home/kylier/python/DS/data/PUF/PUF_ELIX_IP2009.csv\")"
   ]
  },
  {
   "cell_type": "code",
   "execution_count": 3,
   "metadata": {},
   "outputs": [
    {
     "data": {
      "text/html": [
       "<div>\n",
       "<style scoped>\n",
       "    .dataframe tbody tr th:only-of-type {\n",
       "        vertical-align: middle;\n",
       "    }\n",
       "\n",
       "    .dataframe tbody tr th {\n",
       "        vertical-align: top;\n",
       "    }\n",
       "\n",
       "    .dataframe thead th {\n",
       "        text-align: right;\n",
       "    }\n",
       "</style>\n",
       "<table border=\"1\" class=\"dataframe\">\n",
       "  <thead>\n",
       "    <tr style=\"text-align: right;\">\n",
       "      <th></th>\n",
       "      <th>Unnamed: 0</th>\n",
       "      <th>DESYNPUF_ID</th>\n",
       "      <th>BENE_AGE</th>\n",
       "      <th>B_SEX</th>\n",
       "      <th>NH_WHITE</th>\n",
       "      <th>AA_BLACK</th>\n",
       "      <th>OTHER</th>\n",
       "      <th>NW_HISPANIC</th>\n",
       "      <th>B_ALZHDMTA</th>\n",
       "      <th>B_CHF</th>\n",
       "      <th>...</th>\n",
       "      <th>MEAN_LOS</th>\n",
       "      <th>TOTAL_PHYS</th>\n",
       "      <th>MEAN_PHYS_VISIT</th>\n",
       "      <th>CBSA</th>\n",
       "      <th>FULL_FIPS_CODE</th>\n",
       "      <th>FIPS_STATE_CODE</th>\n",
       "      <th>FIPS_COUNTY_CODE</th>\n",
       "      <th>TOTCHRONIC</th>\n",
       "      <th>AGE_GROUP</th>\n",
       "      <th>PERCENT_COSTS</th>\n",
       "    </tr>\n",
       "  </thead>\n",
       "  <tbody>\n",
       "    <tr>\n",
       "      <th>0</th>\n",
       "      <td>0</td>\n",
       "      <td>0000438E79D01BEA</td>\n",
       "      <td>73.0</td>\n",
       "      <td>1</td>\n",
       "      <td>1</td>\n",
       "      <td>0</td>\n",
       "      <td>0</td>\n",
       "      <td>0</td>\n",
       "      <td>0</td>\n",
       "      <td>0</td>\n",
       "      <td>...</td>\n",
       "      <td>0.0</td>\n",
       "      <td>0</td>\n",
       "      <td>0.0</td>\n",
       "      <td>45300</td>\n",
       "      <td>12057</td>\n",
       "      <td>12</td>\n",
       "      <td>57</td>\n",
       "      <td>0</td>\n",
       "      <td>65-74</td>\n",
       "      <td>0.0</td>\n",
       "    </tr>\n",
       "    <tr>\n",
       "      <th>1</th>\n",
       "      <td>1</td>\n",
       "      <td>00010E7BEA69142C</td>\n",
       "      <td>72.0</td>\n",
       "      <td>0</td>\n",
       "      <td>1</td>\n",
       "      <td>0</td>\n",
       "      <td>0</td>\n",
       "      <td>0</td>\n",
       "      <td>1</td>\n",
       "      <td>0</td>\n",
       "      <td>...</td>\n",
       "      <td>0.0</td>\n",
       "      <td>0</td>\n",
       "      <td>0.0</td>\n",
       "      <td>48864</td>\n",
       "      <td>10003</td>\n",
       "      <td>10</td>\n",
       "      <td>3</td>\n",
       "      <td>2</td>\n",
       "      <td>65-74</td>\n",
       "      <td>0.0</td>\n",
       "    </tr>\n",
       "    <tr>\n",
       "      <th>2</th>\n",
       "      <td>2</td>\n",
       "      <td>00015BF6509E1DF7</td>\n",
       "      <td>76.0</td>\n",
       "      <td>0</td>\n",
       "      <td>1</td>\n",
       "      <td>0</td>\n",
       "      <td>0</td>\n",
       "      <td>0</td>\n",
       "      <td>0</td>\n",
       "      <td>0</td>\n",
       "      <td>...</td>\n",
       "      <td>0.0</td>\n",
       "      <td>0</td>\n",
       "      <td>0.0</td>\n",
       "      <td>16740</td>\n",
       "      <td>37119</td>\n",
       "      <td>37</td>\n",
       "      <td>119</td>\n",
       "      <td>3</td>\n",
       "      <td>75-84</td>\n",
       "      <td>0.0</td>\n",
       "    </tr>\n",
       "    <tr>\n",
       "      <th>3</th>\n",
       "      <td>4</td>\n",
       "      <td>0003E73AFBA840A8</td>\n",
       "      <td>68.0</td>\n",
       "      <td>0</td>\n",
       "      <td>1</td>\n",
       "      <td>0</td>\n",
       "      <td>0</td>\n",
       "      <td>0</td>\n",
       "      <td>0</td>\n",
       "      <td>0</td>\n",
       "      <td>...</td>\n",
       "      <td>0.0</td>\n",
       "      <td>0</td>\n",
       "      <td>0.0</td>\n",
       "      <td>40380</td>\n",
       "      <td>36055</td>\n",
       "      <td>36</td>\n",
       "      <td>55</td>\n",
       "      <td>0</td>\n",
       "      <td>65-74</td>\n",
       "      <td>0.0</td>\n",
       "    </tr>\n",
       "    <tr>\n",
       "      <th>4</th>\n",
       "      <td>5</td>\n",
       "      <td>00040FBA47F90D4F</td>\n",
       "      <td>85.0</td>\n",
       "      <td>0</td>\n",
       "      <td>1</td>\n",
       "      <td>0</td>\n",
       "      <td>0</td>\n",
       "      <td>0</td>\n",
       "      <td>0</td>\n",
       "      <td>1</td>\n",
       "      <td>...</td>\n",
       "      <td>0.0</td>\n",
       "      <td>0</td>\n",
       "      <td>0.0</td>\n",
       "      <td>20764</td>\n",
       "      <td>34035</td>\n",
       "      <td>34</td>\n",
       "      <td>35</td>\n",
       "      <td>2</td>\n",
       "      <td>85+</td>\n",
       "      <td>0.0</td>\n",
       "    </tr>\n",
       "  </tbody>\n",
       "</table>\n",
       "<p>5 rows × 41 columns</p>\n",
       "</div>"
      ],
      "text/plain": [
       "   Unnamed: 0       DESYNPUF_ID  BENE_AGE  B_SEX  NH_WHITE  AA_BLACK  OTHER  \\\n",
       "0           0  0000438E79D01BEA      73.0      1         1         0      0   \n",
       "1           1  00010E7BEA69142C      72.0      0         1         0      0   \n",
       "2           2  00015BF6509E1DF7      76.0      0         1         0      0   \n",
       "3           4  0003E73AFBA840A8      68.0      0         1         0      0   \n",
       "4           5  00040FBA47F90D4F      85.0      0         1         0      0   \n",
       "\n",
       "   NW_HISPANIC  B_ALZHDMTA  B_CHF  ...  MEAN_LOS  TOTAL_PHYS  MEAN_PHYS_VISIT  \\\n",
       "0            0           0      0  ...       0.0           0              0.0   \n",
       "1            0           1      0  ...       0.0           0              0.0   \n",
       "2            0           0      0  ...       0.0           0              0.0   \n",
       "3            0           0      0  ...       0.0           0              0.0   \n",
       "4            0           0      1  ...       0.0           0              0.0   \n",
       "\n",
       "    CBSA  FULL_FIPS_CODE  FIPS_STATE_CODE  FIPS_COUNTY_CODE  TOTCHRONIC  \\\n",
       "0  45300           12057               12                57           0   \n",
       "1  48864           10003               10                 3           2   \n",
       "2  16740           37119               37               119           3   \n",
       "3  40380           36055               36                55           0   \n",
       "4  20764           34035               34                35           2   \n",
       "\n",
       "   AGE_GROUP  PERCENT_COSTS  \n",
       "0      65-74            0.0  \n",
       "1      65-74            0.0  \n",
       "2      75-84            0.0  \n",
       "3      65-74            0.0  \n",
       "4        85+            0.0  \n",
       "\n",
       "[5 rows x 41 columns]"
      ]
     },
     "execution_count": 3,
     "metadata": {},
     "output_type": "execute_result"
    }
   ],
   "source": [
    "desynpuf.head()"
   ]
  },
  {
   "cell_type": "code",
   "execution_count": 4,
   "metadata": {},
   "outputs": [
    {
     "data": {
      "text/plain": [
       "DESYNPUF_ID         0\n",
       "BENE_AGE            0\n",
       "B_SEX               0\n",
       "NH_WHITE            0\n",
       "AA_BLACK            0\n",
       "OTHER               0\n",
       "NW_HISPANIC         0\n",
       "B_ALZHDMTA          0\n",
       "B_CHF               0\n",
       "B_CNCR              0\n",
       "B_COPD              0\n",
       "B_DEPRESSN          0\n",
       "B_DIABETES          0\n",
       "B_ISCHMCHT          0\n",
       "B_OSTEOPRS          0\n",
       "B_CHRNKIDN          0\n",
       "B_RA_OA             0\n",
       "B_STRKETIA          0\n",
       "B_ESRD              0\n",
       "B_DIED              0\n",
       "CVRG_MOS            0\n",
       "RX_CVRG_MOS         0\n",
       "MEAN_ELIX_SCORE     0\n",
       "TOTAL_VISITS        0\n",
       "TOTAL_CODES         0\n",
       "MEAN_CODES_VISIT    0\n",
       "MEAN_CHRONIC        0\n",
       "ALLCOSTS            0\n",
       "MEAN_COST_VISIT     0\n",
       "TOTAL_LOS           0\n",
       "MEAN_LOS            0\n",
       "TOTAL_PHYS          0\n",
       "MEAN_PHYS_VISIT     0\n",
       "CBSA                0\n",
       "FULL_FIPS_CODE      0\n",
       "FIPS_STATE_CODE     0\n",
       "FIPS_COUNTY_CODE    0\n",
       "TOTCHRONIC          0\n",
       "AGE_GROUP           0\n",
       "PERCENT_COSTS       0\n",
       "dtype: int64"
      ]
     },
     "execution_count": 4,
     "metadata": {},
     "output_type": "execute_result"
    }
   ],
   "source": [
    "desynpuf.drop(columns=desynpuf.columns[0], axis=1, inplace=True)\n",
    "desynpuf.isnull().sum() "
   ]
  },
  {
   "cell_type": "code",
   "execution_count": 5,
   "metadata": {},
   "outputs": [],
   "source": [
    "desynpuf[\"MEAN_LOS\"].fillna(0, inplace=True)"
   ]
  },
  {
   "cell_type": "code",
   "execution_count": 6,
   "metadata": {},
   "outputs": [
    {
     "data": {
      "text/plain": [
       "(113237, 40)"
      ]
     },
     "execution_count": 6,
     "metadata": {},
     "output_type": "execute_result"
    }
   ],
   "source": [
    "desynpuf.shape"
   ]
  },
  {
   "cell_type": "markdown",
   "metadata": {},
   "source": [
    "## Deaths in 2009"
   ]
  },
  {
   "cell_type": "code",
   "execution_count": 7,
   "metadata": {},
   "outputs": [
    {
     "data": {
      "text/plain": [
       "0.0    0.984952\n",
       "1.0    0.015048\n",
       "Name: B_DIED, dtype: float64"
      ]
     },
     "execution_count": 7,
     "metadata": {},
     "output_type": "execute_result"
    }
   ],
   "source": [
    "# Set B_DIED fields that are = 2 to 1\n",
    "desynpuf.loc[desynpuf[\"B_DIED\"]>1, \"B_DIED\"] = 1.0\n",
    "desynpuf[\"B_DIED\"].value_counts(normalize=True)"
   ]
  },
  {
   "cell_type": "markdown",
   "metadata": {},
   "source": [
    "## Outlier Removal\n",
    "\n",
    "Remove: \n",
    "\n",
    "Rows where MEAN_ELIX_SCORE > 13\n",
    "\n",
    "Rows where TOTAL_VISITS > 7\n",
    "\n",
    "Rows where TOTAL_LOS > 100\n",
    "\n",
    "Rows where MEAN_LOS > 29\n",
    "\n",
    "Rows where MEAN_CODES_VISIT > 14\n",
    "\n",
    "Rows where TOTAL_CODES > 60\n",
    "\n",
    "Rows where TOTAL_PHYS > 14"
   ]
  },
  {
   "cell_type": "code",
   "execution_count": 8,
   "metadata": {},
   "outputs": [
    {
     "data": {
      "text/plain": [
       "(113237, 40)"
      ]
     },
     "execution_count": 8,
     "metadata": {},
     "output_type": "execute_result"
    }
   ],
   "source": [
    "desynpuf.shape"
   ]
  },
  {
   "cell_type": "code",
   "execution_count": 9,
   "metadata": {},
   "outputs": [
    {
     "data": {
      "text/plain": [
       "(113237, 40)"
      ]
     },
     "execution_count": 9,
     "metadata": {},
     "output_type": "execute_result"
    }
   ],
   "source": [
    "desynpuf = desynpuf[desynpuf[\"MEAN_ELIX_SCORE\"]<14]\n",
    "desynpuf.shape"
   ]
  },
  {
   "cell_type": "code",
   "execution_count": 10,
   "metadata": {},
   "outputs": [
    {
     "data": {
      "text/plain": [
       "(113237, 40)"
      ]
     },
     "execution_count": 10,
     "metadata": {},
     "output_type": "execute_result"
    }
   ],
   "source": [
    "desynpuf = desynpuf[desynpuf[\"TOTAL_VISITS\"]<8]\n",
    "desynpuf.shape"
   ]
  },
  {
   "cell_type": "code",
   "execution_count": 11,
   "metadata": {},
   "outputs": [
    {
     "data": {
      "text/plain": [
       "(113237, 40)"
      ]
     },
     "execution_count": 11,
     "metadata": {},
     "output_type": "execute_result"
    }
   ],
   "source": [
    "desynpuf = desynpuf[desynpuf[\"TOTAL_LOS\"]<101]\n",
    "desynpuf.shape"
   ]
  },
  {
   "cell_type": "code",
   "execution_count": 12,
   "metadata": {},
   "outputs": [
    {
     "data": {
      "text/plain": [
       "(113155, 40)"
      ]
     },
     "execution_count": 12,
     "metadata": {},
     "output_type": "execute_result"
    }
   ],
   "source": [
    "desynpuf = desynpuf[desynpuf[\"MEAN_LOS\"]<25]\n",
    "desynpuf.shape"
   ]
  },
  {
   "cell_type": "code",
   "execution_count": 13,
   "metadata": {},
   "outputs": [
    {
     "data": {
      "text/plain": [
       "(113155, 40)"
      ]
     },
     "execution_count": 13,
     "metadata": {},
     "output_type": "execute_result"
    }
   ],
   "source": [
    "desynpuf = desynpuf[desynpuf[\"MEAN_CODES_VISIT\"]<15]\n",
    "desynpuf.shape"
   ]
  },
  {
   "cell_type": "code",
   "execution_count": 14,
   "metadata": {},
   "outputs": [
    {
     "data": {
      "text/plain": [
       "(113155, 40)"
      ]
     },
     "execution_count": 14,
     "metadata": {},
     "output_type": "execute_result"
    }
   ],
   "source": [
    "desynpuf = desynpuf[desynpuf[\"TOTAL_CODES\"]<61]\n",
    "desynpuf.shape"
   ]
  },
  {
   "cell_type": "code",
   "execution_count": 15,
   "metadata": {},
   "outputs": [
    {
     "data": {
      "text/plain": [
       "(113155, 40)"
      ]
     },
     "execution_count": 15,
     "metadata": {},
     "output_type": "execute_result"
    }
   ],
   "source": [
    "desynpuf = desynpuf[desynpuf[\"TOTAL_PHYS\"]<15]\n",
    "desynpuf.shape"
   ]
  },
  {
   "cell_type": "code",
   "execution_count": 16,
   "metadata": {},
   "outputs": [
    {
     "data": {
      "text/plain": [
       "(113155, 40)"
      ]
     },
     "execution_count": 16,
     "metadata": {},
     "output_type": "execute_result"
    }
   ],
   "source": [
    "desynpuf = desynpuf[desynpuf[\"ALLCOSTS\"]<400000]\n",
    "desynpuf.shape"
   ]
  },
  {
   "cell_type": "markdown",
   "metadata": {},
   "source": [
    "## Total Rows Removed: 1145"
   ]
  },
  {
   "cell_type": "code",
   "execution_count": 17,
   "metadata": {},
   "outputs": [],
   "source": [
    "desynpuf.to_csv(\"/home/kylier/python/DS/data/PUF/PUF_ELIX_IP2009.csv\")"
   ]
  },
  {
   "cell_type": "code",
   "execution_count": null,
   "metadata": {},
   "outputs": [],
   "source": []
  }
 ],
 "metadata": {
  "kernelspec": {
   "display_name": "Python 3",
   "language": "python",
   "name": "python3"
  },
  "language_info": {
   "codemirror_mode": {
    "name": "ipython",
    "version": 3
   },
   "file_extension": ".py",
   "mimetype": "text/x-python",
   "name": "python",
   "nbconvert_exporter": "python",
   "pygments_lexer": "ipython3",
   "version": "3.8.5"
  }
 },
 "nbformat": 4,
 "nbformat_minor": 4
}
