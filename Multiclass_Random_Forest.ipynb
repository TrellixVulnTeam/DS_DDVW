{
 "cells": [
  {
   "cell_type": "code",
   "execution_count": 1,
   "metadata": {},
   "outputs": [],
   "source": [
    "# MULTICLASS CLASSIFICATION - BRFSS \n",
    "# Outcome variable: CHRONICGRP\n",
    "# Final model: Random Forest Classifier\n",
    "#\n",
    "import time\n",
    "import numpy as np\n",
    "import pandas as pd\n",
    "import seaborn as sb\n",
    "import matplotlib.pyplot as plt\n",
    "import sklearn.base as skbase\n",
    "import sklearn.metrics as smet\n",
    "import sklearn.model_selection as ms\n",
    "\n",
    "from sklearn.ensemble import RandomForestClassifier\n"
   ]
  },
  {
   "cell_type": "code",
   "execution_count": 2,
   "metadata": {},
   "outputs": [],
   "source": [
    "np.set_printoptions(precision=3, suppress = True)\n",
    "import warnings\n",
    "warnings.filterwarnings('ignore')"
   ]
  },
  {
   "cell_type": "code",
   "execution_count": 3,
   "metadata": {},
   "outputs": [],
   "source": [
    "# Import libraries\n",
    "\n",
    "import importlib.util\n",
    "spec = importlib.util.spec_from_file_location(\"manip\", \"/home/kylier/python/DS/manip.py\")\n",
    "manip = importlib.util.module_from_spec(spec)\n",
    "spec.loader.exec_module(manip)"
   ]
  },
  {
   "cell_type": "code",
   "execution_count": 4,
   "metadata": {},
   "outputs": [],
   "source": [
    "spec = importlib.util.spec_from_file_location(\"enrich\", \"/home/kylier/python/DS/enrich.py\")\n",
    "enrich = importlib.util.module_from_spec(spec)\n",
    "spec.loader.exec_module(enrich)"
   ]
  },
  {
   "cell_type": "code",
   "execution_count": 25,
   "metadata": {},
   "outputs": [],
   "source": [
    "spec = importlib.util.spec_from_file_location(\"enrich\", \"/home/kylier/python/DS/learn.py\")\n",
    "learn = importlib.util.module_from_spec(spec)\n",
    "spec.loader.exec_module(learn)"
   ]
  },
  {
   "cell_type": "code",
   "execution_count": 6,
   "metadata": {},
   "outputs": [],
   "source": [
    "# define columns to use\n",
    "binary_columns = [\"B_SMOKER\", \"B_HLTHPLN\", \"B_COUPLED\", \"B_VEGGIE\", \"B_EXERCISE\", \"B_EXER30\", \"B_SLEEPOK\", \"B_BINGER\",\n",
    "                  \"B_CHECKUP\", \"B_GOODHLTH\", \"B_POORHLTH\", \"B_SEATBLT\", \"B_HIVRISK\"]\n",
    "label_columns = [\"L_SEX\", \"L_AGE_G\", \"L_EMPLOY1\", \"L_INCOMG\", \"L_EDUCAG\", \"L_BMI5CAT\", \"L_IMPRACE\"]\n",
    "labeled_states = [\"L_STATEAB\"]\n",
    "target = [\"CHRONICGRP\"]"
   ]
  },
  {
   "cell_type": "code",
   "execution_count": 7,
   "metadata": {},
   "outputs": [],
   "source": [
    "# Use the full data set\n",
    "raw_data = pd.read_csv('/home/kylier/python/DS/data/BRFSS_Clean_Combo.csv')"
   ]
  },
  {
   "cell_type": "code",
   "execution_count": 8,
   "metadata": {},
   "outputs": [],
   "source": [
    "brfss = pd.DataFrame(raw_data, columns=binary_columns + label_columns + labeled_states + target)"
   ]
  },
  {
   "cell_type": "code",
   "execution_count": 9,
   "metadata": {},
   "outputs": [
    {
     "data": {
      "text/plain": [
       "0    734870\n",
       "1    374149\n",
       "2    135267\n",
       "3     61434\n",
       "Name: CHRONICGRP, dtype: int64"
      ]
     },
     "execution_count": 9,
     "metadata": {},
     "output_type": "execute_result"
    }
   ],
   "source": [
    "brfss[\"CHRONICGRP\"].value_counts()"
   ]
  },
  {
   "cell_type": "code",
   "execution_count": 10,
   "metadata": {},
   "outputs": [
    {
     "data": {
      "text/plain": [
       "3    326430\n",
       "2    326430\n",
       "1    326430\n",
       "0    326430\n",
       "Name: CHRONICGRP, dtype: int64"
      ]
     },
     "execution_count": 10,
     "metadata": {},
     "output_type": "execute_result"
    }
   ],
   "source": [
    "# Balance class representation by performing random sampling from each group with replacement\n",
    "brfss = manip.rebalanceMulticlass(brfss, \"CHRONICGRP\", 4, [0, 1, 2, 3], 123)\n",
    "brfss[\"CHRONICGRP\"].value_counts()"
   ]
  },
  {
   "cell_type": "code",
   "execution_count": 11,
   "metadata": {},
   "outputs": [],
   "source": [
    "X, Y = enrich.prepareXY(brfss, \"CHRONICGRP\")\n",
    "# Encode columns for analysis (uses category_encoders library)\n",
    "X = manip.doCleanupEncode(X, binary=label_columns + labeled_states)\n",
    "X_train, X_test, Y_train, Y_test = ms.train_test_split(X, Y, test_size=0.1)"
   ]
  },
  {
   "cell_type": "code",
   "execution_count": 12,
   "metadata": {},
   "outputs": [
    {
     "name": "stdout",
     "output_type": "stream",
     "text": [
      "<class 'pandas.core.frame.DataFrame'>\n",
      "RangeIndex: 1305720 entries, 0 to 1305719\n",
      "Data columns (total 40 columns):\n",
      " #   Column       Non-Null Count    Dtype\n",
      "---  ------       --------------    -----\n",
      " 0   B_SMOKER     1305720 non-null  int64\n",
      " 1   B_HLTHPLN    1305720 non-null  int64\n",
      " 2   B_COUPLED    1305720 non-null  int64\n",
      " 3   B_VEGGIE     1305720 non-null  int64\n",
      " 4   B_EXERCISE   1305720 non-null  int64\n",
      " 5   B_EXER30     1305720 non-null  int64\n",
      " 6   B_SLEEPOK    1305720 non-null  int64\n",
      " 7   B_BINGER     1305720 non-null  int64\n",
      " 8   B_CHECKUP    1305720 non-null  int64\n",
      " 9   B_GOODHLTH   1305720 non-null  int64\n",
      " 10  B_POORHLTH   1305720 non-null  int64\n",
      " 11  B_SEATBLT    1305720 non-null  int64\n",
      " 12  B_HIVRISK    1305720 non-null  int64\n",
      " 13  L_SEX_1      1305720 non-null  int64\n",
      " 14  L_SEX_2      1305720 non-null  int64\n",
      " 15  L_AGE_G_1    1305720 non-null  int64\n",
      " 16  L_AGE_G_2    1305720 non-null  int64\n",
      " 17  L_AGE_G_3    1305720 non-null  int64\n",
      " 18  L_EMPLOY1_1  1305720 non-null  int64\n",
      " 19  L_EMPLOY1_2  1305720 non-null  int64\n",
      " 20  L_EMPLOY1_3  1305720 non-null  int64\n",
      " 21  L_EMPLOY1_4  1305720 non-null  int64\n",
      " 22  L_INCOMG_1   1305720 non-null  int64\n",
      " 23  L_INCOMG_2   1305720 non-null  int64\n",
      " 24  L_INCOMG_3   1305720 non-null  int64\n",
      " 25  L_EDUCAG_1   1305720 non-null  int64\n",
      " 26  L_EDUCAG_2   1305720 non-null  int64\n",
      " 27  L_EDUCAG_3   1305720 non-null  int64\n",
      " 28  L_BMI5CAT_1  1305720 non-null  int64\n",
      " 29  L_BMI5CAT_2  1305720 non-null  int64\n",
      " 30  L_BMI5CAT_3  1305720 non-null  int64\n",
      " 31  L_IMPRACE_1  1305720 non-null  int64\n",
      " 32  L_IMPRACE_2  1305720 non-null  int64\n",
      " 33  L_IMPRACE_3  1305720 non-null  int64\n",
      " 34  L_STATEAB_1  1305720 non-null  int64\n",
      " 35  L_STATEAB_2  1305720 non-null  int64\n",
      " 36  L_STATEAB_3  1305720 non-null  int64\n",
      " 37  L_STATEAB_4  1305720 non-null  int64\n",
      " 38  L_STATEAB_5  1305720 non-null  int64\n",
      " 39  L_STATEAB_6  1305720 non-null  int64\n",
      "dtypes: int64(40)\n",
      "memory usage: 398.5 MB\n"
     ]
    }
   ],
   "source": [
    "# Show the final set of predictors\n",
    "X.info()"
   ]
  },
  {
   "cell_type": "code",
   "execution_count": 13,
   "metadata": {},
   "outputs": [],
   "source": [
    "# Using the following parameters as determined by the tuning script: brfss_binary_tuning.py\n",
    "# 'n_estimators': 200, 'min_samples_split': 10, 'min_samples_leaf': 15, 'max_depth': 10, 'criterion': 'gini'"
   ]
  },
  {
   "cell_type": "code",
   "execution_count": 14,
   "metadata": {},
   "outputs": [],
   "source": [
    "rf = RandomForestClassifier(n_estimators=200, \n",
    "                            min_samples_split=10, \n",
    "                            min_samples_leaf=15, \n",
    "                            max_depth=10,                            \n",
    "                            criterion='gini',  \n",
    "                            max_samples=3300,\n",
    "                            n_jobs=-1, \n",
    "                            verbose=1)"
   ]
  },
  {
   "cell_type": "code",
   "execution_count": 15,
   "metadata": {},
   "outputs": [
    {
     "name": "stderr",
     "output_type": "stream",
     "text": [
      "[Parallel(n_jobs=-1)]: Using backend ThreadingBackend with 8 concurrent workers.\n",
      "[Parallel(n_jobs=-1)]: Done  34 tasks      | elapsed:    2.1s\n",
      "[Parallel(n_jobs=-1)]: Done 184 tasks      | elapsed:    9.7s\n",
      "[Parallel(n_jobs=-1)]: Done 200 out of 200 | elapsed:   10.3s finished\n"
     ]
    },
    {
     "data": {
      "text/plain": [
       "RandomForestClassifier(max_depth=10, max_samples=3300, min_samples_leaf=15,\n",
       "                       min_samples_split=10, n_estimators=200, n_jobs=-1,\n",
       "                       verbose=1)"
      ]
     },
     "execution_count": 15,
     "metadata": {},
     "output_type": "execute_result"
    }
   ],
   "source": [
    "rf.fit(X_train, Y_train)"
   ]
  },
  {
   "cell_type": "code",
   "execution_count": 16,
   "metadata": {},
   "outputs": [
    {
     "name": "stderr",
     "output_type": "stream",
     "text": [
      "[Parallel(n_jobs=8)]: Using backend ThreadingBackend with 8 concurrent workers.\n",
      "[Parallel(n_jobs=8)]: Done  34 tasks      | elapsed:    1.4s\n",
      "[Parallel(n_jobs=8)]: Done 184 tasks      | elapsed:    6.5s\n",
      "[Parallel(n_jobs=8)]: Done 200 out of 200 | elapsed:    7.0s finished\n"
     ]
    },
    {
     "data": {
      "text/plain": [
       "0.44236981214281096"
      ]
     },
     "execution_count": 16,
     "metadata": {},
     "output_type": "execute_result"
    }
   ],
   "source": [
    "rf.score(X_train, Y_train)"
   ]
  },
  {
   "cell_type": "code",
   "execution_count": 17,
   "metadata": {},
   "outputs": [
    {
     "name": "stdout",
     "output_type": "stream",
     "text": [
      "Feature: 0, Score: 0.02235\n",
      "Feature: 1, Score: 0.00328\n",
      "Feature: 2, Score: 0.02552\n",
      "Feature: 3, Score: 0.01323\n",
      "Feature: 4, Score: 0.01040\n",
      "Feature: 5, Score: 0.01380\n",
      "Feature: 6, Score: 0.01012\n",
      "Feature: 7, Score: 0.00665\n",
      "Feature: 8, Score: 0.03246\n",
      "Feature: 9, Score: 0.22749\n",
      "Feature: 10, Score: 0.12170\n",
      "Feature: 11, Score: 0.01283\n",
      "Feature: 12, Score: 0.00049\n",
      "Feature: 13, Score: 0.02032\n",
      "Feature: 14, Score: 0.01913\n",
      "Feature: 15, Score: 0.01417\n",
      "Feature: 16, Score: 0.01994\n",
      "Feature: 17, Score: 0.02218\n",
      "Feature: 18, Score: 0.00392\n",
      "Feature: 19, Score: 0.03874\n",
      "Feature: 20, Score: 0.04884\n",
      "Feature: 21, Score: 0.06041\n",
      "Feature: 22, Score: 0.01995\n",
      "Feature: 23, Score: 0.01283\n",
      "Feature: 24, Score: 0.01874\n",
      "Feature: 25, Score: 0.00881\n",
      "Feature: 26, Score: 0.01392\n",
      "Feature: 27, Score: 0.01396\n",
      "Feature: 28, Score: 0.01486\n",
      "Feature: 29, Score: 0.01839\n",
      "Feature: 30, Score: 0.03261\n",
      "Feature: 31, Score: 0.00299\n",
      "Feature: 32, Score: 0.00802\n",
      "Feature: 33, Score: 0.00491\n",
      "Feature: 34, Score: 0.01116\n",
      "Feature: 35, Score: 0.01261\n",
      "Feature: 36, Score: 0.01363\n",
      "Feature: 37, Score: 0.01475\n",
      "Feature: 38, Score: 0.01497\n",
      "Feature: 39, Score: 0.01492\n"
     ]
    },
    {
     "data": {
      "image/png": "[encoded data removed]",
      "text/plain": [
       "<Figure size 432x288 with 1 Axes>"
      ]
     },
     "metadata": {
      "needs_background": "light"
     },
     "output_type": "display_data"
    }
   ],
   "source": [
    "learn.showRFFeatures(rf)"
   ]
  },
  {
   "cell_type": "code",
   "execution_count": 26,
   "metadata": {},
   "outputs": [
    {
     "name": "stderr",
     "output_type": "stream",
     "text": [
      "[Parallel(n_jobs=8)]: Using backend ThreadingBackend with 8 concurrent workers.\n",
      "[Parallel(n_jobs=8)]: Done  34 tasks      | elapsed:    0.1s\n",
      "[Parallel(n_jobs=8)]: Done 184 tasks      | elapsed:    0.7s\n",
      "[Parallel(n_jobs=8)]: Done 200 out of 200 | elapsed:    0.8s finished\n"
     ]
    },
    {
     "name": "stdout",
     "output_type": "stream",
     "text": [
      "AUC for Class 1, No Conditions: 0.8098238638942222\n",
      "AUC for Class 2, 1 Condition: 0.622813093348209\n",
      "AUC for Class 3, 2 Conditions: 0.6256164842710332\n",
      "AUC for Class 4, 3+ Conditions: 0.7967831442749437\n"
     ]
    },
    {
     "data": {
      "image/png": "[encoded data removed]",
      "text/plain": [
       "<Figure size 432x288 with 1 Axes>"
      ]
     },
     "metadata": {
      "needs_background": "light"
     },
     "output_type": "display_data"
    }
   ],
   "source": [
    "learn.multiclassROC(rf, X_test, Y_test, [0, 1, 2, 3], ['No Conditions', '1 Condition', '2 Conditions', '3+ Conditions'])"
   ]
  },
  {
   "cell_type": "code",
   "execution_count": null,
   "metadata": {},
   "outputs": [],
   "source": []
  }
 ],
 "metadata": {
  "kernelspec": {
   "display_name": "Python 3",
   "language": "python",
   "name": "python3"
  },
  "language_info": {
   "codemirror_mode": {
    "name": "ipython",
    "version": 3
   },
   "file_extension": ".py",
   "mimetype": "text/x-python",
   "name": "python",
   "nbconvert_exporter": "python",
   "pygments_lexer": "ipython3",
   "version": "3.7.6"
  }
 },
 "nbformat": 4,
 "nbformat_minor": 4
}
