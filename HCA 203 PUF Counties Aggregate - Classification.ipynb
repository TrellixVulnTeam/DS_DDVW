{
 "cells": [
  {
   "cell_type": "markdown",
   "metadata": {},
   "source": [
    "# PUF Counties Aggregate - Classification \n",
    "\n",
    "DeSYNPuf Counties Aggregate with Elixhauser Sums per User & RWJF Factor Rankings Dataset"
   ]
  },
  {
   "cell_type": "code",
   "execution_count": 1,
   "metadata": {},
   "outputs": [],
   "source": [
    "%matplotlib inline\n",
    "import seaborn as sb\n",
    "import numpy as np\n",
    "import pandas as pd\n",
    "import matplotlib.pyplot as plt\n",
    "\n",
    "import sklearn.preprocessing as pre"
   ]
  },
  {
   "cell_type": "markdown",
   "metadata": {},
   "source": [
    "The file contains aggregated Medicare data from 2008-2010 (DeSYNPuf Synthetic Public Use Files), and RWJF County Health Factors and Outcomes Ranking Data from 2010.\n",
    "\n",
    "2694 out of 3012 counties will be analyzed.\n",
    "\n",
    "The following rules were applied to transform variables and eliminate outliers before performing this analysis:\n",
    "\n",
    "1. TOT_VSTS_PB cut >= 20\n",
    "2. CODES_PU cut >= 25\n",
    "3. PROCS_PU cut >= 30\n",
    "4. IPDAYS_PU transformed to square root(IPDAYS_PU), cut >= 4.5 and 0 values transformed to 0.1\n",
    "5. TOT_CC_INCD cut >= 4.5\n",
    "6. COST_PB transformed to square root(COST_PB), cut > 520\n",
    "7. CNTY_IP_PROP cut >= 0.25 and IP_PROP = 1 excluded (2 rows)\n",
    "8. CNTY_USR_PROP cut <= 0.2\n",
    "\n",
    "Total counties removed = 179 rows"
   ]
  },
  {
   "cell_type": "code",
   "execution_count": 2,
   "metadata": {
    "scrolled": true
   },
   "outputs": [
    {
     "data": {
      "text/plain": [
       "(2694, 79)"
      ]
     },
     "execution_count": 2,
     "metadata": {},
     "output_type": "execute_result"
    }
   ],
   "source": [
    "medicare_counties = pd.read_csv(\"/home/kylier/python/DS/data/PUF/PUF_RWJF_MERGED_CLUST_OUTLIERS_REM.csv\")\n",
    "medicare_counties.shape\n"
   ]
  },
  {
   "cell_type": "code",
   "execution_count": 3,
   "metadata": {},
   "outputs": [],
   "source": [
    "medicare_counties.drop(columns=medicare_counties.columns[0], axis=1, inplace=True, errors=\"ignore\")"
   ]
  },
  {
   "cell_type": "markdown",
   "metadata": {},
   "source": [
    "## Classification\n",
    "\n",
    "In this notebook, I will show how one can use the Random Forest Classifier to try to predict high cost counties.\n",
    "\n",
    "A high cost county will be defined as counties where SR[TOT_COST_PB] > 215 (which is the mean). "
   ]
  },
  {
   "cell_type": "code",
   "execution_count": 4,
   "metadata": {},
   "outputs": [],
   "source": [
    "from sklearn.metrics import accuracy_score\n",
    "from sklearn.metrics import precision_score\n",
    "from sklearn.metrics import recall_score\n",
    "from sklearn.metrics import confusion_matrix\n",
    "from sklearn.metrics import roc_auc_score\n",
    "from sklearn.metrics import f1_score\n",
    "\n",
    "from sklearn.model_selection import train_test_split\n",
    "\n",
    "from sklearn.ensemble import RandomForestClassifier"
   ]
  },
  {
   "cell_type": "code",
   "execution_count": 5,
   "metadata": {},
   "outputs": [],
   "source": [
    "# Again, we will begin with Age, Sex and Race indicators in the model.\n",
    "# The classification model will rate the importance of the variables after it uses them to make decisions.\n",
    "\n",
    "medicare_counties.loc[medicare_counties[\"SR[TOT_COST_PB]\"]>215, \"HIGH_COST\"] = 1\n",
    "medicare_counties.loc[medicare_counties[\"SR[TOT_COST_PB]\"]<=215, \"HIGH_COST\"] = 0\n",
    "\n",
    "df = medicare_counties[[\"CNTY_MEAN_AGE\", \"CNTY_SEX_PROP\", \"DIVERSE_PROP\", \"CNTY_IP_PROP\", \"TOT_VSTS_PB\", \n",
    "                       \"CODES_PU\", \"PROCS_PU\", \"PRVDRS_PU\", \"SR[TOT_IPDAYS_PU]\", \"TOT_CC_PREV\", \"TOT_CC_INCD\",\n",
    "                       \"TOT_ELIX_PU\", \"TOT_ESRD_PREV\"]]\n"
   ]
  },
  {
   "cell_type": "code",
   "execution_count": 6,
   "metadata": {},
   "outputs": [
    {
     "data": {
      "text/plain": [
       "1.0    1388\n",
       "0.0    1306\n",
       "Name: HIGH_COST, dtype: int64"
      ]
     },
     "execution_count": 6,
     "metadata": {},
     "output_type": "execute_result"
    }
   ],
   "source": [
    "medicare_counties[\"HIGH_COST\"].value_counts()"
   ]
  },
  {
   "cell_type": "code",
   "execution_count": 7,
   "metadata": {},
   "outputs": [
    {
     "data": {
      "text/html": [
       "<div>\n",
       "<style scoped>\n",
       "    .dataframe tbody tr th:only-of-type {\n",
       "        vertical-align: middle;\n",
       "    }\n",
       "\n",
       "    .dataframe tbody tr th {\n",
       "        vertical-align: top;\n",
       "    }\n",
       "\n",
       "    .dataframe thead th {\n",
       "        text-align: right;\n",
       "    }\n",
       "</style>\n",
       "<table border=\"1\" class=\"dataframe\">\n",
       "  <thead>\n",
       "    <tr style=\"text-align: right;\">\n",
       "      <th></th>\n",
       "      <th>CNTY_MEAN_AGE</th>\n",
       "      <th>CNTY_SEX_PROP</th>\n",
       "      <th>DIVERSE_PROP</th>\n",
       "      <th>CNTY_IP_PROP</th>\n",
       "      <th>TOT_VSTS_PB</th>\n",
       "      <th>CODES_PU</th>\n",
       "      <th>PROCS_PU</th>\n",
       "      <th>PRVDRS_PU</th>\n",
       "      <th>SR[TOT_IPDAYS_PU]</th>\n",
       "      <th>TOT_CC_PREV</th>\n",
       "      <th>TOT_CC_INCD</th>\n",
       "      <th>TOT_ELIX_PU</th>\n",
       "      <th>TOT_ESRD_PREV</th>\n",
       "      <th>HIGH_COST</th>\n",
       "    </tr>\n",
       "  </thead>\n",
       "  <tbody>\n",
       "    <tr>\n",
       "      <th>2609</th>\n",
       "      <td>-4.624795</td>\n",
       "      <td>-1.455192</td>\n",
       "      <td>-1.041787</td>\n",
       "      <td>3.358003</td>\n",
       "      <td>0.195268</td>\n",
       "      <td>2.361403</td>\n",
       "      <td>0.554634</td>\n",
       "      <td>-0.040684</td>\n",
       "      <td>2.860311</td>\n",
       "      <td>0.681311</td>\n",
       "      <td>0.972505</td>\n",
       "      <td>-0.240615</td>\n",
       "      <td>-1.350328</td>\n",
       "      <td>1.0</td>\n",
       "    </tr>\n",
       "    <tr>\n",
       "      <th>1845</th>\n",
       "      <td>0.685721</td>\n",
       "      <td>-0.173124</td>\n",
       "      <td>0.785486</td>\n",
       "      <td>-0.417294</td>\n",
       "      <td>0.330112</td>\n",
       "      <td>0.123772</td>\n",
       "      <td>0.228734</td>\n",
       "      <td>0.716158</td>\n",
       "      <td>-0.451168</td>\n",
       "      <td>-0.211862</td>\n",
       "      <td>-0.608357</td>\n",
       "      <td>0.191126</td>\n",
       "      <td>-0.550733</td>\n",
       "      <td>0.0</td>\n",
       "    </tr>\n",
       "    <tr>\n",
       "      <th>364</th>\n",
       "      <td>-0.445035</td>\n",
       "      <td>0.049629</td>\n",
       "      <td>0.459540</td>\n",
       "      <td>0.365825</td>\n",
       "      <td>-0.793029</td>\n",
       "      <td>-0.813047</td>\n",
       "      <td>-0.844122</td>\n",
       "      <td>-0.198075</td>\n",
       "      <td>0.000718</td>\n",
       "      <td>-0.216891</td>\n",
       "      <td>-0.303171</td>\n",
       "      <td>-0.737252</td>\n",
       "      <td>-0.118520</td>\n",
       "      <td>0.0</td>\n",
       "    </tr>\n",
       "    <tr>\n",
       "      <th>768</th>\n",
       "      <td>-0.081578</td>\n",
       "      <td>0.647246</td>\n",
       "      <td>-1.041787</td>\n",
       "      <td>-0.657501</td>\n",
       "      <td>0.156450</td>\n",
       "      <td>-0.143372</td>\n",
       "      <td>0.115922</td>\n",
       "      <td>-0.978002</td>\n",
       "      <td>-0.332723</td>\n",
       "      <td>-0.357235</td>\n",
       "      <td>-0.215158</td>\n",
       "      <td>-0.465811</td>\n",
       "      <td>-0.400809</td>\n",
       "      <td>0.0</td>\n",
       "    </tr>\n",
       "    <tr>\n",
       "      <th>2236</th>\n",
       "      <td>0.544377</td>\n",
       "      <td>-0.769757</td>\n",
       "      <td>0.536312</td>\n",
       "      <td>1.218596</td>\n",
       "      <td>0.632859</td>\n",
       "      <td>0.954612</td>\n",
       "      <td>0.509638</td>\n",
       "      <td>0.692870</td>\n",
       "      <td>1.186717</td>\n",
       "      <td>0.978612</td>\n",
       "      <td>0.289860</td>\n",
       "      <td>-0.048872</td>\n",
       "      <td>0.721349</td>\n",
       "      <td>1.0</td>\n",
       "    </tr>\n",
       "    <tr>\n",
       "      <th>...</th>\n",
       "      <td>...</td>\n",
       "      <td>...</td>\n",
       "      <td>...</td>\n",
       "      <td>...</td>\n",
       "      <td>...</td>\n",
       "      <td>...</td>\n",
       "      <td>...</td>\n",
       "      <td>...</td>\n",
       "      <td>...</td>\n",
       "      <td>...</td>\n",
       "      <td>...</td>\n",
       "      <td>...</td>\n",
       "      <td>...</td>\n",
       "      <td>...</td>\n",
       "    </tr>\n",
       "    <tr>\n",
       "      <th>339</th>\n",
       "      <td>2.482816</td>\n",
       "      <td>-2.615157</td>\n",
       "      <td>-1.041787</td>\n",
       "      <td>-1.908231</td>\n",
       "      <td>-1.978566</td>\n",
       "      <td>-2.854018</td>\n",
       "      <td>-1.767161</td>\n",
       "      <td>-1.833815</td>\n",
       "      <td>-2.231963</td>\n",
       "      <td>-0.909653</td>\n",
       "      <td>0.359518</td>\n",
       "      <td>-2.750628</td>\n",
       "      <td>6.245822</td>\n",
       "      <td>0.0</td>\n",
       "    </tr>\n",
       "    <tr>\n",
       "      <th>1716</th>\n",
       "      <td>-0.263306</td>\n",
       "      <td>-0.308407</td>\n",
       "      <td>0.615217</td>\n",
       "      <td>-0.333635</td>\n",
       "      <td>0.328486</td>\n",
       "      <td>0.520565</td>\n",
       "      <td>0.367675</td>\n",
       "      <td>0.876259</td>\n",
       "      <td>0.165965</td>\n",
       "      <td>-0.126224</td>\n",
       "      <td>-0.389302</td>\n",
       "      <td>-0.021295</td>\n",
       "      <td>-0.400809</td>\n",
       "      <td>1.0</td>\n",
       "    </tr>\n",
       "    <tr>\n",
       "      <th>2113</th>\n",
       "      <td>0.160727</td>\n",
       "      <td>0.699030</td>\n",
       "      <td>-1.041787</td>\n",
       "      <td>0.771906</td>\n",
       "      <td>-1.202197</td>\n",
       "      <td>-1.392328</td>\n",
       "      <td>-1.912948</td>\n",
       "      <td>-1.833815</td>\n",
       "      <td>-0.610738</td>\n",
       "      <td>-0.152051</td>\n",
       "      <td>0.578442</td>\n",
       "      <td>0.530851</td>\n",
       "      <td>-1.350328</td>\n",
       "      <td>0.0</td>\n",
       "    </tr>\n",
       "    <tr>\n",
       "      <th>1631</th>\n",
       "      <td>0.483800</td>\n",
       "      <td>-0.783633</td>\n",
       "      <td>0.785486</td>\n",
       "      <td>0.104439</td>\n",
       "      <td>-0.977458</td>\n",
       "      <td>-1.134988</td>\n",
       "      <td>-0.876240</td>\n",
       "      <td>-0.741635</td>\n",
       "      <td>-0.745700</td>\n",
       "      <td>-0.258381</td>\n",
       "      <td>-0.850326</td>\n",
       "      <td>-0.468624</td>\n",
       "      <td>-0.950530</td>\n",
       "      <td>0.0</td>\n",
       "    </tr>\n",
       "    <tr>\n",
       "      <th>469</th>\n",
       "      <td>0.019383</td>\n",
       "      <td>-1.276735</td>\n",
       "      <td>1.628843</td>\n",
       "      <td>-0.380621</td>\n",
       "      <td>1.156772</td>\n",
       "      <td>1.510466</td>\n",
       "      <td>2.193389</td>\n",
       "      <td>-0.464515</td>\n",
       "      <td>0.991899</td>\n",
       "      <td>0.858084</td>\n",
       "      <td>0.123753</td>\n",
       "      <td>0.246059</td>\n",
       "      <td>1.571268</td>\n",
       "      <td>1.0</td>\n",
       "    </tr>\n",
       "  </tbody>\n",
       "</table>\n",
       "<p>2020 rows × 14 columns</p>\n",
       "</div>"
      ],
      "text/plain": [
       "      CNTY_MEAN_AGE  CNTY_SEX_PROP  DIVERSE_PROP  CNTY_IP_PROP  TOT_VSTS_PB  \\\n",
       "2609      -4.624795      -1.455192     -1.041787      3.358003     0.195268   \n",
       "1845       0.685721      -0.173124      0.785486     -0.417294     0.330112   \n",
       "364       -0.445035       0.049629      0.459540      0.365825    -0.793029   \n",
       "768       -0.081578       0.647246     -1.041787     -0.657501     0.156450   \n",
       "2236       0.544377      -0.769757      0.536312      1.218596     0.632859   \n",
       "...             ...            ...           ...           ...          ...   \n",
       "339        2.482816      -2.615157     -1.041787     -1.908231    -1.978566   \n",
       "1716      -0.263306      -0.308407      0.615217     -0.333635     0.328486   \n",
       "2113       0.160727       0.699030     -1.041787      0.771906    -1.202197   \n",
       "1631       0.483800      -0.783633      0.785486      0.104439    -0.977458   \n",
       "469        0.019383      -1.276735      1.628843     -0.380621     1.156772   \n",
       "\n",
       "      CODES_PU  PROCS_PU  PRVDRS_PU  SR[TOT_IPDAYS_PU]  TOT_CC_PREV  \\\n",
       "2609  2.361403  0.554634  -0.040684           2.860311     0.681311   \n",
       "1845  0.123772  0.228734   0.716158          -0.451168    -0.211862   \n",
       "364  -0.813047 -0.844122  -0.198075           0.000718    -0.216891   \n",
       "768  -0.143372  0.115922  -0.978002          -0.332723    -0.357235   \n",
       "2236  0.954612  0.509638   0.692870           1.186717     0.978612   \n",
       "...        ...       ...        ...                ...          ...   \n",
       "339  -2.854018 -1.767161  -1.833815          -2.231963    -0.909653   \n",
       "1716  0.520565  0.367675   0.876259           0.165965    -0.126224   \n",
       "2113 -1.392328 -1.912948  -1.833815          -0.610738    -0.152051   \n",
       "1631 -1.134988 -0.876240  -0.741635          -0.745700    -0.258381   \n",
       "469   1.510466  2.193389  -0.464515           0.991899     0.858084   \n",
       "\n",
       "      TOT_CC_INCD  TOT_ELIX_PU  TOT_ESRD_PREV  HIGH_COST  \n",
       "2609     0.972505    -0.240615      -1.350328        1.0  \n",
       "1845    -0.608357     0.191126      -0.550733        0.0  \n",
       "364     -0.303171    -0.737252      -0.118520        0.0  \n",
       "768     -0.215158    -0.465811      -0.400809        0.0  \n",
       "2236     0.289860    -0.048872       0.721349        1.0  \n",
       "...           ...          ...            ...        ...  \n",
       "339      0.359518    -2.750628       6.245822        0.0  \n",
       "1716    -0.389302    -0.021295      -0.400809        1.0  \n",
       "2113     0.578442     0.530851      -1.350328        0.0  \n",
       "1631    -0.850326    -0.468624      -0.950530        0.0  \n",
       "469      0.123753     0.246059       1.571268        1.0  \n",
       "\n",
       "[2020 rows x 14 columns]"
      ]
     },
     "execution_count": 7,
     "metadata": {},
     "output_type": "execute_result"
    }
   ],
   "source": [
    "s = pre.StandardScaler()\n",
    "df = s.fit_transform(df)\n",
    "\n",
    "df = pd.DataFrame(df, columns=[\"CNTY_MEAN_AGE\", \"CNTY_SEX_PROP\", \"DIVERSE_PROP\", \"CNTY_IP_PROP\", \"TOT_VSTS_PB\", \n",
    "                       \"CODES_PU\", \"PROCS_PU\", \"PRVDRS_PU\", \"SR[TOT_IPDAYS_PU]\", \"TOT_CC_PREV\", \"TOT_CC_INCD\",\n",
    "                       \"TOT_ELIX_PU\", \"TOT_ESRD_PREV\"])\n",
    "df[\"HIGH_COST\"] = medicare_counties[\"HIGH_COST\"]\n",
    "\n",
    "train, test = train_test_split(df, test_size=0.25, random_state=121)\n",
    "\n",
    "train"
   ]
  },
  {
   "cell_type": "code",
   "execution_count": 8,
   "metadata": {},
   "outputs": [],
   "source": [
    "train_x = train[[\"CNTY_MEAN_AGE\", \"CNTY_SEX_PROP\", \"DIVERSE_PROP\", \"CNTY_IP_PROP\", \"TOT_VSTS_PB\", \n",
    "                 \"CODES_PU\", \"PROCS_PU\", \"PRVDRS_PU\", \"SR[TOT_IPDAYS_PU]\", \"TOT_CC_PREV\", \"TOT_CC_INCD\",\n",
    "                 \"TOT_ELIX_PU\", \"TOT_ESRD_PREV\"]]\n",
    "train_y = train[\"HIGH_COST\"]\n",
    "\n",
    "test_x = test[[\"CNTY_MEAN_AGE\", \"CNTY_SEX_PROP\", \"DIVERSE_PROP\", \"CNTY_IP_PROP\", \"TOT_VSTS_PB\", \n",
    "               \"CODES_PU\", \"PROCS_PU\", \"PRVDRS_PU\", \"SR[TOT_IPDAYS_PU]\", \"TOT_CC_PREV\", \"TOT_CC_INCD\",\n",
    "               \"TOT_ELIX_PU\", \"TOT_ESRD_PREV\"]]\n",
    "test_y = test[\"HIGH_COST\"]"
   ]
  },
  {
   "cell_type": "code",
   "execution_count": 9,
   "metadata": {},
   "outputs": [],
   "source": [
    "#The default criterion is \"gini\". We can also run with criterion \"entropy\" for information gain,\n",
    "#rather than impurity\n",
    "clf = RandomForestClassifier(min_samples_leaf=10, random_state=121)\n",
    "clf.fit(train_x, train_y)\n",
    "\n",
    "# predict on test data\n",
    "prediction = clf.predict(test_x)\n",
    "\n",
    "# compute evaluation scores\n",
    "accuracy = accuracy_score(test_y, prediction)\n",
    "precision = precision_score(test_y, prediction)\n",
    "recall = recall_score(test_y, prediction)\n",
    "cm = confusion_matrix(test_y, prediction)\n",
    "roc = roc_auc_score(test_y, prediction)\n",
    "f1 = f1_score(test_y, prediction)"
   ]
  },
  {
   "cell_type": "code",
   "execution_count": 10,
   "metadata": {},
   "outputs": [
    {
     "data": {
      "text/plain": [
       "0.8456973293768546"
      ]
     },
     "execution_count": 10,
     "metadata": {},
     "output_type": "execute_result"
    }
   ],
   "source": [
    "accuracy"
   ]
  },
  {
   "cell_type": "code",
   "execution_count": 11,
   "metadata": {},
   "outputs": [
    {
     "data": {
      "text/plain": [
       "0.8672086720867209"
      ]
     },
     "execution_count": 11,
     "metadata": {},
     "output_type": "execute_result"
    }
   ],
   "source": [
    "precision"
   ]
  },
  {
   "cell_type": "code",
   "execution_count": 12,
   "metadata": {},
   "outputs": [
    {
     "data": {
      "text/plain": [
       "0.8533333333333334"
      ]
     },
     "execution_count": 12,
     "metadata": {},
     "output_type": "execute_result"
    }
   ],
   "source": [
    "recall"
   ]
  },
  {
   "cell_type": "code",
   "execution_count": 13,
   "metadata": {},
   "outputs": [
    {
     "data": {
      "text/plain": [
       "0.860215053763441"
      ]
     },
     "execution_count": 13,
     "metadata": {},
     "output_type": "execute_result"
    }
   ],
   "source": [
    "f1"
   ]
  },
  {
   "cell_type": "markdown",
   "metadata": {},
   "source": [
    "## Scores\n",
    "\n",
    "These are great scores for a simple Random Forest Classifier without any boosting.\n",
    "\n",
    "The meaning of all these scores is worth reading up on.  \n",
    "\n",
    "Now let's look at the Feature Importances of each of the variables in the model."
   ]
  },
  {
   "cell_type": "code",
   "execution_count": 18,
   "metadata": {},
   "outputs": [
    {
     "data": {
      "text/plain": [
       "<AxesSubplot:>"
      ]
     },
     "execution_count": 18,
     "metadata": {},
     "output_type": "execute_result"
    },
    {
     "data": {
      "image/png": "[encoded data removed]",
      "text/plain": [
       "<Figure size 432x288 with 1 Axes>"
      ]
     },
     "metadata": {
      "needs_background": "light"
     },
     "output_type": "display_data"
    }
   ],
   "source": [
    "feat_importances = pd.Series(clf.feature_importances_, index=train_x.columns)\n",
    "feat_importances.nlargest(13).plot(kind='barh')"
   ]
  },
  {
   "cell_type": "markdown",
   "metadata": {},
   "source": [
    "## Feature Importances\n",
    "\n",
    "CODES_PU was the most useful variable to the decision tree, in classifying counties into high cost or low cost!"
   ]
  },
  {
   "cell_type": "code",
   "execution_count": 20,
   "metadata": {},
   "outputs": [
    {
     "data": {
      "image/png": "[encoded data removed]",
      "text/plain": [
       "<Figure size 432x288 with 1 Axes>"
      ]
     },
     "metadata": {
      "needs_background": "light"
     },
     "output_type": "display_data"
    }
   ],
   "source": [
    "from sklearn.metrics import plot_roc_curve\n",
    "\n",
    "clf_disp = plot_roc_curve(clf, test_x, test_y)\n",
    "plt.show()"
   ]
  },
  {
   "cell_type": "markdown",
   "metadata": {},
   "source": [
    "## AUC\n",
    "\n",
    "AUC for the holdout (test) data is 0.92!"
   ]
  },
  {
   "cell_type": "code",
   "execution_count": 22,
   "metadata": {},
   "outputs": [
    {
     "data": {
      "image/png": "[encoded data removed]",
      "text/plain": [
       "<Figure size 432x288 with 2 Axes>"
      ]
     },
     "metadata": {
      "needs_background": "light"
     },
     "output_type": "display_data"
    }
   ],
   "source": [
    "sb.heatmap(cm)\n",
    "plt.show()"
   ]
  },
  {
   "cell_type": "code",
   "execution_count": 23,
   "metadata": {},
   "outputs": [
    {
     "data": {
      "text/plain": [
       "array([[250,  49],\n",
       "       [ 55, 320]])"
      ]
     },
     "execution_count": 23,
     "metadata": {},
     "output_type": "execute_result"
    }
   ],
   "source": [
    "cm"
   ]
  },
  {
   "cell_type": "markdown",
   "metadata": {},
   "source": [
    "## Confusion Matrix\n",
    "\n",
    "The confusion matrix shows the actual positives and negatives of the target classification (in this case, HIGH_COST) on the left column, plotted against the predicted positives and negatives going across the rows.\n",
    "\n",
    "Above, the first cell contains TRUE POSITIVES (times the true value was positive, and the classifier predicted positive).  The classifier correctly predicted 250 out of 299 positive cases.\n",
    "\n",
    "The second cell contains the FALSE NEGATIVES (times the true value was positive, and the classifier predicted negative).  The classifier incorrectly classified 49 positive cases as negative.\n",
    "\n",
    "The second row, first cell contains the FALSE NEGATIVES (times the true value was negative, and the classifier predicted positive).  The classifier incorrectly classified 55 negative cases as positive.\n",
    "\n",
    "The second row, second cell contains the TRUE NEGATIVES (times the true value was negative, and the classifier predicted negative).  The classifier correctly predicted 320 out of 375 nevative cases.\n",
    "\n",
    "The confusion matrix values can be used to calculate a wide variety of other important model metrics:\n",
    "\n",
    "https://en.wikipedia.org/wiki/Confusion_matrix"
   ]
  },
  {
   "cell_type": "markdown",
   "metadata": {},
   "source": [
    "## Now...\n",
    "\n",
    "Let's try the whole model using \"entropy\" criterion instead of \"gini\" - just for comparison!"
   ]
  },
  {
   "cell_type": "code",
   "execution_count": 24,
   "metadata": {},
   "outputs": [],
   "source": [
    "clf2 = RandomForestClassifier(criterion=\"entropy\", min_samples_leaf=10, random_state=121)\n",
    "clf2.fit(train_x, train_y)\n",
    "\n",
    "# predict on test data\n",
    "prediction2 = clf2.predict(test_x)\n",
    "\n",
    "# compute evaluation scores\n",
    "accuracy2 = accuracy_score(test_y, prediction2)\n",
    "precision2 = precision_score(test_y, prediction2)\n",
    "recall2 = recall_score(test_y, prediction2)\n",
    "cm2 = confusion_matrix(test_y, prediction2)\n",
    "roc2 = roc_auc_score(test_y, prediction2)\n",
    "f12 = f1_score(test_y, prediction2)"
   ]
  },
  {
   "cell_type": "code",
   "execution_count": 25,
   "metadata": {},
   "outputs": [
    {
     "data": {
      "text/plain": [
       "0.8397626112759644"
      ]
     },
     "execution_count": 25,
     "metadata": {},
     "output_type": "execute_result"
    }
   ],
   "source": [
    "accuracy2"
   ]
  },
  {
   "cell_type": "code",
   "execution_count": 26,
   "metadata": {},
   "outputs": [
    {
     "data": {
      "text/plain": [
       "0.8541114058355438"
      ]
     },
     "execution_count": 26,
     "metadata": {},
     "output_type": "execute_result"
    }
   ],
   "source": [
    "precision2"
   ]
  },
  {
   "cell_type": "code",
   "execution_count": 27,
   "metadata": {},
   "outputs": [
    {
     "data": {
      "text/plain": [
       "0.8586666666666667"
      ]
     },
     "execution_count": 27,
     "metadata": {},
     "output_type": "execute_result"
    }
   ],
   "source": [
    "recall2"
   ]
  },
  {
   "cell_type": "code",
   "execution_count": 28,
   "metadata": {},
   "outputs": [
    {
     "data": {
      "text/plain": [
       "0.8563829787234042"
      ]
     },
     "execution_count": 28,
     "metadata": {},
     "output_type": "execute_result"
    }
   ],
   "source": [
    "f12"
   ]
  },
  {
   "cell_type": "code",
   "execution_count": 29,
   "metadata": {},
   "outputs": [
    {
     "data": {
      "text/plain": [
       "<AxesSubplot:>"
      ]
     },
     "execution_count": 29,
     "metadata": {},
     "output_type": "execute_result"
    },
    {
     "data": {
      "image/png": "[encoded data removed]",
      "text/plain": [
       "<Figure size 432x288 with 1 Axes>"
      ]
     },
     "metadata": {
      "needs_background": "light"
     },
     "output_type": "display_data"
    }
   ],
   "source": [
    "feat_importances2 = pd.Series(clf2.feature_importances_, index=train_x.columns)\n",
    "feat_importances2.nlargest(13).plot(kind='barh')"
   ]
  },
  {
   "cell_type": "code",
   "execution_count": 30,
   "metadata": {},
   "outputs": [
    {
     "data": {
      "image/png": "[encoded data removed]",
      "text/plain": [
       "<Figure size 432x288 with 1 Axes>"
      ]
     },
     "metadata": {
      "needs_background": "light"
     },
     "output_type": "display_data"
    }
   ],
   "source": [
    "clf_disp2 = plot_roc_curve(clf2, test_x, test_y)\n",
    "plt.show()"
   ]
  },
  {
   "cell_type": "code",
   "execution_count": 31,
   "metadata": {},
   "outputs": [
    {
     "data": {
      "image/png": "[encoded data removed]",
      "text/plain": [
       "<Figure size 432x288 with 2 Axes>"
      ]
     },
     "metadata": {
      "needs_background": "light"
     },
     "output_type": "display_data"
    }
   ],
   "source": [
    "sb.heatmap(cm2)\n",
    "plt.show()"
   ]
  },
  {
   "cell_type": "code",
   "execution_count": 32,
   "metadata": {},
   "outputs": [
    {
     "data": {
      "text/plain": [
       "array([[244,  55],\n",
       "       [ 53, 322]])"
      ]
     },
     "execution_count": 32,
     "metadata": {},
     "output_type": "execute_result"
    }
   ],
   "source": [
    "cm2"
   ]
  },
  {
   "cell_type": "markdown",
   "metadata": {},
   "source": [
    "So, it looks as though the \"gini\" model did slightly better than \"entropy\" at distinguishing true positives from true negatives.  The \"entropy\" model made a few more mistakes.  \n",
    "\n",
    "The AUC and recall scores were similar, but accuracy and precision were better for the \"gini\" model."
   ]
  },
  {
   "cell_type": "markdown",
   "metadata": {},
   "source": [
    "## Lastly...\n",
    "\n",
    "What if we tried to classify the holdout set using only the new FACTOR variables?\n",
    "\n",
    "(No need to scale them, they were scaled when they were created.)"
   ]
  },
  {
   "cell_type": "code",
   "execution_count": 39,
   "metadata": {},
   "outputs": [
    {
     "data": {
      "text/plain": [
       "(2694, 82)"
      ]
     },
     "execution_count": 39,
     "metadata": {},
     "output_type": "execute_result"
    }
   ],
   "source": [
    "mc = pd.read_csv(\"/home/kylier/python/DS/data/PUF/PUF_RWJF_MERGED_CLUSTERED_NOOUTLIERS.csv\")\n",
    "mc.shape"
   ]
  },
  {
   "cell_type": "code",
   "execution_count": 41,
   "metadata": {},
   "outputs": [],
   "source": [
    "mc.drop(columns=medicare_counties.columns[0], axis=1, inplace=True, errors=\"ignore\")"
   ]
  },
  {
   "cell_type": "code",
   "execution_count": 44,
   "metadata": {},
   "outputs": [
    {
     "data": {
      "text/html": [
       "<div>\n",
       "<style scoped>\n",
       "    .dataframe tbody tr th:only-of-type {\n",
       "        vertical-align: middle;\n",
       "    }\n",
       "\n",
       "    .dataframe tbody tr th {\n",
       "        vertical-align: top;\n",
       "    }\n",
       "\n",
       "    .dataframe thead th {\n",
       "        text-align: right;\n",
       "    }\n",
       "</style>\n",
       "<table border=\"1\" class=\"dataframe\">\n",
       "  <thead>\n",
       "    <tr style=\"text-align: right;\">\n",
       "      <th></th>\n",
       "      <th>FACTORS_1</th>\n",
       "      <th>FACTORS_2</th>\n",
       "      <th>FACTORS_3</th>\n",
       "      <th>HIGH_COST</th>\n",
       "    </tr>\n",
       "  </thead>\n",
       "  <tbody>\n",
       "    <tr>\n",
       "      <th>2609</th>\n",
       "      <td>1.203530</td>\n",
       "      <td>-0.082198</td>\n",
       "      <td>3.215759</td>\n",
       "      <td>1.0</td>\n",
       "    </tr>\n",
       "    <tr>\n",
       "      <th>1845</th>\n",
       "      <td>0.363923</td>\n",
       "      <td>-0.212502</td>\n",
       "      <td>-0.490816</td>\n",
       "      <td>0.0</td>\n",
       "    </tr>\n",
       "    <tr>\n",
       "      <th>364</th>\n",
       "      <td>-0.920505</td>\n",
       "      <td>-0.154060</td>\n",
       "      <td>0.345301</td>\n",
       "      <td>0.0</td>\n",
       "    </tr>\n",
       "    <tr>\n",
       "      <th>768</th>\n",
       "      <td>0.125176</td>\n",
       "      <td>-0.248373</td>\n",
       "      <td>-0.583093</td>\n",
       "      <td>0.0</td>\n",
       "    </tr>\n",
       "    <tr>\n",
       "      <th>2236</th>\n",
       "      <td>0.445535</td>\n",
       "      <td>0.708567</td>\n",
       "      <td>1.137493</td>\n",
       "      <td>1.0</td>\n",
       "    </tr>\n",
       "    <tr>\n",
       "      <th>...</th>\n",
       "      <td>...</td>\n",
       "      <td>...</td>\n",
       "      <td>...</td>\n",
       "      <td>...</td>\n",
       "    </tr>\n",
       "    <tr>\n",
       "      <th>339</th>\n",
       "      <td>-2.383877</td>\n",
       "      <td>-0.188244</td>\n",
       "      <td>-1.836699</td>\n",
       "      <td>0.0</td>\n",
       "    </tr>\n",
       "    <tr>\n",
       "      <th>1716</th>\n",
       "      <td>0.710364</td>\n",
       "      <td>-0.216946</td>\n",
       "      <td>-0.206125</td>\n",
       "      <td>1.0</td>\n",
       "    </tr>\n",
       "    <tr>\n",
       "      <th>2113</th>\n",
       "      <td>-1.832725</td>\n",
       "      <td>0.035816</td>\n",
       "      <td>0.509445</td>\n",
       "      <td>0.0</td>\n",
       "    </tr>\n",
       "    <tr>\n",
       "      <th>1631</th>\n",
       "      <td>-1.182440</td>\n",
       "      <td>-0.100580</td>\n",
       "      <td>-0.047120</td>\n",
       "      <td>0.0</td>\n",
       "    </tr>\n",
       "    <tr>\n",
       "      <th>469</th>\n",
       "      <td>1.548942</td>\n",
       "      <td>0.641129</td>\n",
       "      <td>-0.141389</td>\n",
       "      <td>1.0</td>\n",
       "    </tr>\n",
       "  </tbody>\n",
       "</table>\n",
       "<p>2020 rows × 4 columns</p>\n",
       "</div>"
      ],
      "text/plain": [
       "      FACTORS_1  FACTORS_2  FACTORS_3  HIGH_COST\n",
       "2609   1.203530  -0.082198   3.215759        1.0\n",
       "1845   0.363923  -0.212502  -0.490816        0.0\n",
       "364   -0.920505  -0.154060   0.345301        0.0\n",
       "768    0.125176  -0.248373  -0.583093        0.0\n",
       "2236   0.445535   0.708567   1.137493        1.0\n",
       "...         ...        ...        ...        ...\n",
       "339   -2.383877  -0.188244  -1.836699        0.0\n",
       "1716   0.710364  -0.216946  -0.206125        1.0\n",
       "2113  -1.832725   0.035816   0.509445        0.0\n",
       "1631  -1.182440  -0.100580  -0.047120        0.0\n",
       "469    1.548942   0.641129  -0.141389        1.0\n",
       "\n",
       "[2020 rows x 4 columns]"
      ]
     },
     "execution_count": 44,
     "metadata": {},
     "output_type": "execute_result"
    }
   ],
   "source": [
    "mc.loc[mc[\"SR[TOT_COST_PB]\"]>215, \"HIGH_COST\"] = 1\n",
    "mc.loc[mc[\"SR[TOT_COST_PB]\"]<=215, \"HIGH_COST\"] = 0\n",
    "\n",
    "df = mc[[\"FACTORS_1\", \"FACTORS_2\", \"FACTORS_3\", \"HIGH_COST\"]]\n",
    "train, test = train_test_split(df, test_size=0.25, random_state=121)\n",
    "\n",
    "train"
   ]
  },
  {
   "cell_type": "code",
   "execution_count": 45,
   "metadata": {},
   "outputs": [],
   "source": [
    "train_x = train[[\"FACTORS_1\", \"FACTORS_2\", \"FACTORS_3\"]]\n",
    "train_y = train[\"HIGH_COST\"]\n",
    "\n",
    "test_x = test[[\"FACTORS_1\", \"FACTORS_2\", \"FACTORS_3\"]]\n",
    "test_y = test[\"HIGH_COST\"]"
   ]
  },
  {
   "cell_type": "code",
   "execution_count": 46,
   "metadata": {},
   "outputs": [],
   "source": [
    "clf3 = RandomForestClassifier(min_samples_leaf=10, random_state=121)\n",
    "clf3.fit(train_x, train_y)\n",
    "\n",
    "# predict on test data\n",
    "prediction3 = clf3.predict(test_x)\n",
    "\n",
    "# compute evaluation scores\n",
    "accuracy3 = accuracy_score(test_y, prediction3)\n",
    "precision3 = precision_score(test_y, prediction3)\n",
    "recall3 = recall_score(test_y, prediction3)\n",
    "cm3 = confusion_matrix(test_y, prediction3)\n",
    "roc3 = roc_auc_score(test_y, prediction3)\n",
    "f13 = f1_score(test_y, prediction3)"
   ]
  },
  {
   "cell_type": "code",
   "execution_count": 47,
   "metadata": {},
   "outputs": [
    {
     "data": {
      "text/plain": [
       "0.8249258160237388"
      ]
     },
     "execution_count": 47,
     "metadata": {},
     "output_type": "execute_result"
    }
   ],
   "source": [
    "accuracy3"
   ]
  },
  {
   "cell_type": "code",
   "execution_count": 48,
   "metadata": {},
   "outputs": [
    {
     "data": {
      "text/plain": [
       "0.8426666666666667"
      ]
     },
     "execution_count": 48,
     "metadata": {},
     "output_type": "execute_result"
    }
   ],
   "source": [
    "precision3"
   ]
  },
  {
   "cell_type": "code",
   "execution_count": 49,
   "metadata": {},
   "outputs": [
    {
     "data": {
      "text/plain": [
       "0.8426666666666667"
      ]
     },
     "execution_count": 49,
     "metadata": {},
     "output_type": "execute_result"
    }
   ],
   "source": [
    "recall3"
   ]
  },
  {
   "cell_type": "code",
   "execution_count": 50,
   "metadata": {},
   "outputs": [
    {
     "data": {
      "text/plain": [
       "0.8426666666666667"
      ]
     },
     "execution_count": 50,
     "metadata": {},
     "output_type": "execute_result"
    }
   ],
   "source": [
    "f13"
   ]
  },
  {
   "cell_type": "code",
   "execution_count": 51,
   "metadata": {},
   "outputs": [
    {
     "data": {
      "text/plain": [
       "<AxesSubplot:>"
      ]
     },
     "execution_count": 51,
     "metadata": {},
     "output_type": "execute_result"
    },
    {
     "data": {
      "image/png": "[encoded data removed]",
      "text/plain": [
       "<Figure size 432x288 with 1 Axes>"
      ]
     },
     "metadata": {
      "needs_background": "light"
     },
     "output_type": "display_data"
    }
   ],
   "source": [
    "feat_importances3 = pd.Series(clf3.feature_importances_, index=train_x.columns)\n",
    "feat_importances3.nlargest(3).plot(kind='barh')"
   ]
  },
  {
   "cell_type": "code",
   "execution_count": 52,
   "metadata": {},
   "outputs": [
    {
     "data": {
      "image/png": "[encoded data removed]",
      "text/plain": [
       "<Figure size 432x288 with 1 Axes>"
      ]
     },
     "metadata": {
      "needs_background": "light"
     },
     "output_type": "display_data"
    }
   ],
   "source": [
    "clf_disp3 = plot_roc_curve(clf3, test_x, test_y)\n",
    "plt.show()"
   ]
  },
  {
   "cell_type": "code",
   "execution_count": 53,
   "metadata": {},
   "outputs": [
    {
     "data": {
      "image/png": "[encoded data removed]",
      "text/plain": [
       "<Figure size 432x288 with 2 Axes>"
      ]
     },
     "metadata": {
      "needs_background": "light"
     },
     "output_type": "display_data"
    }
   ],
   "source": [
    "sb.heatmap(cm3)\n",
    "plt.show()"
   ]
  },
  {
   "cell_type": "code",
   "execution_count": 54,
   "metadata": {},
   "outputs": [
    {
     "data": {
      "text/plain": [
       "array([[240,  59],\n",
       "       [ 59, 316]])"
      ]
     },
     "execution_count": 54,
     "metadata": {},
     "output_type": "execute_result"
    }
   ],
   "source": [
    "cm3"
   ]
  },
  {
   "cell_type": "markdown",
   "metadata": {},
   "source": [
    "## Results with Dimension Reduction\n",
    "\n",
    "The Factor Analysis was a form of dimension reduction - we \"boiled\" a bunch of variables down to 3 variables that had almost the same power to allow an accurate prediction of the classification as the original model!"
   ]
  },
  {
   "cell_type": "code",
   "execution_count": null,
   "metadata": {},
   "outputs": [],
   "source": []
  }
 ],
 "metadata": {
  "kernelspec": {
   "display_name": "Python 3",
   "language": "python",
   "name": "python3"
  },
  "language_info": {
   "codemirror_mode": {
    "name": "ipython",
    "version": 3
   },
   "file_extension": ".py",
   "mimetype": "text/x-python",
   "name": "python",
   "nbconvert_exporter": "python",
   "pygments_lexer": "ipython3",
   "version": "3.8.5"
  }
 },
 "nbformat": 4,
 "nbformat_minor": 4
}
